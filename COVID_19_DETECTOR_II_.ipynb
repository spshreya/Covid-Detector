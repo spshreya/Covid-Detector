{
  "nbformat": 4,
  "nbformat_minor": 0,
  "metadata": {
    "colab": {
      "name": "COVID-19 DETECTOR_II .ipynb",
      "provenance": [],
      "include_colab_link": true
    },
    "kernelspec": {
      "name": "python3",
      "display_name": "Python 3"
    }
  },
  "cells": [
    {
      "cell_type": "markdown",
      "metadata": {
        "id": "view-in-github",
        "colab_type": "text"
      },
      "source": [
        "<a href=\"https://colab.research.google.com/github/spshreya/Covid-Detector/blob/main/COVID_19_DETECTOR_II_.ipynb\" target=\"_parent\"><img src=\"https://colab.research.google.com/assets/colab-badge.svg\" alt=\"Open In Colab\"/></a>"
      ]
    },
    {
      "cell_type": "code",
      "metadata": {
        "colab": {
          "base_uri": "https://localhost:8080/"
        },
        "id": "GBbB2zQLS-2Z",
        "outputId": "0bfe5b37-0ff2-4471-abc7-fed7de308da2"
      },
      "source": [
        "!wget https://www.dropbox.com/s/vynypakezgqkchf/CovidDataset.rar?dl=0"
      ],
      "execution_count": 2,
      "outputs": [
        {
          "output_type": "stream",
          "text": [
            "--2020-12-04 16:15:32--  https://www.dropbox.com/s/vynypakezgqkchf/CovidDataset.rar?dl=0\n",
            "Resolving www.dropbox.com (www.dropbox.com)... 162.125.1.1, 2620:100:6016:1::a27d:101\n",
            "Connecting to www.dropbox.com (www.dropbox.com)|162.125.1.1|:443... connected.\n",
            "HTTP request sent, awaiting response... 301 Moved Permanently\n",
            "Location: /s/raw/vynypakezgqkchf/CovidDataset.rar [following]\n",
            "--2020-12-04 16:15:32--  https://www.dropbox.com/s/raw/vynypakezgqkchf/CovidDataset.rar\n",
            "Reusing existing connection to www.dropbox.com:443.\n",
            "HTTP request sent, awaiting response... 302 Found\n",
            "Location: https://ucc51b879386d52994b3994f9f09.dl.dropboxusercontent.com/cd/0/inline/BEfFPaCIbETmGYakJIgP0XEv6DI66KpEFQe58E5Zs8erPPfFecTEILy2ZdXNZbJUa8GcpCMd9oTZIb11VCLFP-mL_wmxzPIcdYJBny2a32rutgfUXg5bNna2wj27UQsQiy8/file# [following]\n",
            "--2020-12-04 16:15:33--  https://ucc51b879386d52994b3994f9f09.dl.dropboxusercontent.com/cd/0/inline/BEfFPaCIbETmGYakJIgP0XEv6DI66KpEFQe58E5Zs8erPPfFecTEILy2ZdXNZbJUa8GcpCMd9oTZIb11VCLFP-mL_wmxzPIcdYJBny2a32rutgfUXg5bNna2wj27UQsQiy8/file\n",
            "Resolving ucc51b879386d52994b3994f9f09.dl.dropboxusercontent.com (ucc51b879386d52994b3994f9f09.dl.dropboxusercontent.com)... 162.125.1.15, 2620:100:6016:15::a27d:10f\n",
            "Connecting to ucc51b879386d52994b3994f9f09.dl.dropboxusercontent.com (ucc51b879386d52994b3994f9f09.dl.dropboxusercontent.com)|162.125.1.15|:443... connected.\n",
            "HTTP request sent, awaiting response... 302 Found\n",
            "Location: /cd/0/inline2/BEe-DiVz8oWqtMWerZkzCVbljgUSQ6GOaslhoI6e1-D_B6bgz4eZRjw4XAEeKENMYQ1jZLhjLZ2ASDrAzG_4XiZSfx9PdlrkS_K4i9-EG96NM9ylTzCMFacJlPfcog1zqpifLE98KEkfR8lhgK9_Q6fQ3BogP1NExijeXOaa7undA2cGp2fNox9GqZWYHQrgJs9pX9WuQve2OgrlDdBuTKk2LUYj-RMe1PTvyeRjg3Gf4U8-P_5oMXM9e5DdaF3Q6SzApylv__YPewzjCbdTB0fIrOrw0fBg9jkhZ-GkhD9vKkchw2m8DQyQVzTQV53D61bVEEKbODkDQEXB7jhvvQW8-PnRF44RnPzNbyn50sffjQ/file [following]\n",
            "--2020-12-04 16:15:33--  https://ucc51b879386d52994b3994f9f09.dl.dropboxusercontent.com/cd/0/inline2/BEe-DiVz8oWqtMWerZkzCVbljgUSQ6GOaslhoI6e1-D_B6bgz4eZRjw4XAEeKENMYQ1jZLhjLZ2ASDrAzG_4XiZSfx9PdlrkS_K4i9-EG96NM9ylTzCMFacJlPfcog1zqpifLE98KEkfR8lhgK9_Q6fQ3BogP1NExijeXOaa7undA2cGp2fNox9GqZWYHQrgJs9pX9WuQve2OgrlDdBuTKk2LUYj-RMe1PTvyeRjg3Gf4U8-P_5oMXM9e5DdaF3Q6SzApylv__YPewzjCbdTB0fIrOrw0fBg9jkhZ-GkhD9vKkchw2m8DQyQVzTQV53D61bVEEKbODkDQEXB7jhvvQW8-PnRF44RnPzNbyn50sffjQ/file\n",
            "Reusing existing connection to ucc51b879386d52994b3994f9f09.dl.dropboxusercontent.com:443.\n",
            "HTTP request sent, awaiting response... 200 OK\n",
            "Length: 169385376 (162M) [application/rar]\n",
            "Saving to: ‘CovidDataset.rar?dl=0.1’\n",
            "\n",
            "CovidDataset.rar?dl 100%[===================>] 161.54M  72.2MB/s    in 2.2s    \n",
            "\n",
            "2020-12-04 16:15:36 (72.2 MB/s) - ‘CovidDataset.rar?dl=0.1’ saved [169385376/169385376]\n",
            "\n"
          ],
          "name": "stdout"
        }
      ]
    },
    {
      "cell_type": "code",
      "metadata": {
        "colab": {
          "base_uri": "https://localhost:8080/"
        },
        "id": "P7DAWTQQTEr0",
        "outputId": "a60d25eb-e194-403c-cde8-afad4885c7e0"
      },
      "source": [
        "!pip install unrar"
      ],
      "execution_count": 3,
      "outputs": [
        {
          "output_type": "stream",
          "text": [
            "Collecting unrar\n",
            "  Downloading https://files.pythonhosted.org/packages/bb/0b/53130ccd483e3db8c8a460cb579bdb21b458d5494d67a261e1a5b273fbb9/unrar-0.4-py3-none-any.whl\n",
            "Installing collected packages: unrar\n",
            "Successfully installed unrar-0.4\n"
          ],
          "name": "stdout"
        }
      ]
    },
    {
      "cell_type": "code",
      "metadata": {
        "colab": {
          "base_uri": "https://localhost:8080/"
        },
        "id": "1CHne16lTLqB",
        "outputId": "a1d4cfd1-7282-42ca-eacc-f45bb15d692d"
      },
      "source": [
        "!unrar x CovidDataset.rar\\?dl\\=0"
      ],
      "execution_count": 4,
      "outputs": [
        {
          "output_type": "stream",
          "text": [
            "\n",
            "UNRAR 5.50 freeware      Copyright (c) 1993-2017 Alexander Roshal\n",
            "\n",
            "\n",
            "Extracting from CovidDataset.rar?dl=0\n",
            "\n",
            "Creating    CovidDataset                                              OK\n",
            "Creating    CovidDataset/Train                                        OK\n",
            "Creating    CovidDataset/Train/Covid                                  OK\n",
            "Extracting  CovidDataset/Train/Covid/01E392EE-69F9-4E33-BFCE-E5C968654078.jpeg     \b\b\b\b  0%\b\b\b\b\b  OK \n",
            "Extracting  CovidDataset/Train/Covid/03BF7561-A9BA-4C3C-B8A0-D3E585F73F3C.jpeg     \b\b\b\b  0%\b\b\b\b\b  OK \n",
            "Extracting  CovidDataset/Train/Covid/0a7faa2a.jpg                        \b\b\b\b  0%\b\b\b\b\b  OK \n",
            "Extracting  CovidDataset/Train/Covid/1-s2.0-S0140673620303706-fx1_lrg.jpg     \b\b\b\b  0%\b\b\b\b  1%\b\b\b\b\b  OK \n",
            "Extracting  CovidDataset/Train/Covid/1-s2.0-S1684118220300608-main.pdf-001.jpg     \b\b\b\b  1%\b\b\b\b\b  OK \n",
            "Extracting  CovidDataset/Train/Covid/1-s2.0-S1684118220300608-main.pdf-002.jpg     \b\b\b\b  1%\b\b\b\b\b  OK \n",
            "Extracting  CovidDataset/Train/Covid/1-s2.0-S1684118220300682-main.pdf-002-a1.png     \b\b\b\b  1%\b\b\b\b\b  OK \n",
            "Extracting  CovidDataset/Train/Covid/1-s2.0-S1684118220300682-main.pdf-002-a2.png     \b\b\b\b  1%\b\b\b\b\b  OK \n",
            "Extracting  CovidDataset/Train/Covid/1-s2.0-S1684118220300682-main.pdf-003-b1.png     \b\b\b\b  1%\b\b\b\b\b  OK \n",
            "Extracting  CovidDataset/Train/Covid/1-s2.0-S1684118220300682-main.pdf-003-b2.png     \b\b\b\b  1%\b\b\b\b\b  OK \n",
            "Extracting  CovidDataset/Train/Covid/1-s2.0-S2214250920300834-gr1_lrg-b.png     \b\b\b\b  1%\b\b\b\b\b  OK \n",
            "Extracting  CovidDataset/Train/Covid/1-s2.0-S2214250920300834-gr1_lrg-c.png     \b\b\b\b  2%\b\b\b\b\b  OK \n",
            "Extracting  CovidDataset/Train/Covid/1-s2.0-S2387020620301959-gr4_lrg-b.png     \b\b\b\b  2%\b\b\b\b\b  OK \n",
            "Extracting  CovidDataset/Train/Covid/1-s2.0-S2387020620301959-gr4_lrg-c.png     \b\b\b\b  2%\b\b\b\b\b  OK \n",
            "Extracting  CovidDataset/Train/Covid/1.CXRCTThoraximagesofCOVID-19fromSingapore.pdf-000-fig1a.png     \b\b\b\b  2%\b\b\b\b\b  OK \n",
            "Extracting  CovidDataset/Train/Covid/1.CXRCTThoraximagesofCOVID-19fromSingapore.pdf-000-fig1b.png     \b\b\b\b  2%\b\b\b\b\b  OK \n",
            "Extracting  CovidDataset/Train/Covid/1.CXRCTThoraximagesofCOVID-19fromSingapore.pdf-001-fig2a.png     \b\b\b\b  2%\b\b\b\b\b  OK \n",
            "Extracting  CovidDataset/Train/Covid/1.CXRCTThoraximagesofCOVID-19fromSingapore.pdf-001-fig2b.png     \b\b\b\b  2%\b\b\b\b\b  OK \n",
            "Extracting  CovidDataset/Train/Covid/1.CXRCTThoraximagesofCOVID-19fromSingapore.pdf-002-fig3a.png     \b\b\b\b  2%\b\b\b\b\b  OK \n",
            "Extracting  CovidDataset/Train/Covid/1.CXRCTThoraximagesofCOVID-19fromSingapore.pdf-002-fig3b.png     \b\b\b\b  3%\b\b\b\b\b  OK \n",
            "Extracting  CovidDataset/Train/Covid/1.CXRCTThoraximagesofCOVID-19fromSingapore.pdf-003-fig4a.png     \b\b\b\b  3%\b\b\b\b\b  OK \n",
            "Extracting  CovidDataset/Train/Covid/1.CXRCTThoraximagesofCOVID-19fromSingapore.pdf-003-fig4b.png     \b\b\b\b  3%\b\b\b\b\b  OK \n",
            "Extracting  CovidDataset/Train/Covid/10.1016-slash-j.anl.2020.04.002-a.png     \b\b\b\b  3%\b\b\b\b\b  OK \n",
            "Extracting  CovidDataset/Train/Covid/10.1016-slash-j.crad.2020.04.002-a.png     \b\b\b\b  3%\b\b\b\b\b  OK \n",
            "Extracting  CovidDataset/Train/Covid/10.1016-slash-j.crad.2020.04.002-b.png     \b\b\b\b  3%\b\b\b\b\b  OK \n",
            "Extracting  CovidDataset/Train/Covid/1052b0fe.jpg                        \b\b\b\b  3%\b\b\b\b  4%\b\b\b\b\b  OK \n",
            "Extracting  CovidDataset/Train/Covid/1141cc2b8b9cc394becce5d978b5a7_jumbo.jpeg     \b\b\b\b  4%\b\b\b\b\b  OK \n",
            "Extracting  CovidDataset/Train/Covid/12941_2020_358_Fig1_HTML.jpg        \b\b\b\b  4%\b\b\b\b\b  OK \n",
            "Extracting  CovidDataset/Train/Covid/1312A392-67A3-4EBF-9319-810CF6DA5EF6.jpeg     \b\b\b\b  4%\b\b\b\b\b  OK \n",
            "Extracting  CovidDataset/Train/Covid/14d81f378173b86cc53f21d2d67040_jumbo.jpeg     \b\b\b\b  4%\b\b\b\b\b  OK \n",
            "Extracting  CovidDataset/Train/Covid/16660_1_1.jpg                       \b\b\b\b  4%\b\b\b\b\b  OK \n",
            "Extracting  CovidDataset/Train/Covid/16660_2_1.jpg                       \b\b\b\b  4%\b\b\b\b\b  OK \n",
            "Extracting  CovidDataset/Train/Covid/16660_3_1.jpg                       \b\b\b\b  4%\b\b\b\b\b  OK \n",
            "Extracting  CovidDataset/Train/Covid/16660_4_1.jpg                       \b\b\b\b  4%\b\b\b\b\b  OK \n",
            "Extracting  CovidDataset/Train/Covid/16660_5_1.jpg                       \b\b\b\b  4%\b\b\b\b\b  OK \n",
            "Extracting  CovidDataset/Train/Covid/16663_1_1.jpg                       \b\b\b\b  4%\b\b\b\b\b  OK \n",
            "Extracting  CovidDataset/Train/Covid/16664_1_1.jpg                       \b\b\b\b  4%\b\b\b\b\b  OK \n",
            "Extracting  CovidDataset/Train/Covid/16669_3_1.jpeg                      \b\b\b\b  5%\b\b\b\b\b  OK \n",
            "Extracting  CovidDataset/Train/Covid/16672_1_1.jpg                       \b\b\b\b  5%\b\b\b\b\b  OK \n",
            "Extracting  CovidDataset/Train/Covid/16708_1_1.jpg                       \b\b\b\b  5%\b\b\b\b\b  OK \n",
            "Extracting  CovidDataset/Train/Covid/16708_4_1.jpg                       \b\b\b\b  5%\b\b\b\b\b  OK \n",
            "Extracting  CovidDataset/Train/Covid/16708_5_1.jpg                       \b\b\b\b  5%\b\b\b\b\b  OK \n",
            "Extracting  CovidDataset/Train/Covid/16745_5_1.png                       \b\b\b\b  5%\b\b\b\b\b  OK \n",
            "Extracting  CovidDataset/Train/Covid/16747_1_1.jpg                       \b\b\b\b  5%\b\b\b\b\b  OK \n",
            "Extracting  CovidDataset/Train/Covid/16865_1_1.jpg                       \b\b\b\b  5%\b\b\b\b\b  OK \n",
            "Extracting  CovidDataset/Train/Covid/16953_3_1.jpg                       \b\b\b\b  5%\b\b\b\b\b  OK \n",
            "Extracting  CovidDataset/Train/Covid/16953_4_1.jpg                       \b\b\b\b  5%\b\b\b\b\b  OK \n",
            "Extracting  CovidDataset/Train/Covid/16953_5_1.jpg                       \b\b\b\b  5%\b\b\b\b\b  OK \n",
            "Extracting  CovidDataset/Train/Covid/19abe1f3.jpg                        \b\b\b\b  6%\b\b\b\b\b  OK \n",
            "Extracting  CovidDataset/Train/Covid/1B734A89-A1BF-49A8-A1D3-66FAFA4FAC5D.jpeg     \b\b\b\b  6%\b\b\b\b\b  OK \n",
            "Extracting  CovidDataset/Train/Covid/2-chest-filmc.jpg                   \b\b\b\b  6%\b\b\b\b\b  OK \n",
            "Extracting  CovidDataset/Train/Covid/2168a917.jpg                        \b\b\b\b  6%\b\b\b\b\b  OK \n",
            "Extracting  CovidDataset/Train/Covid/23E99E2E-447C-46E5-8EB2-D35D12473C39.png     \b\b\b\b  7%\b\b\b\b\b  OK \n",
            "Extracting  CovidDataset/Train/Covid/2966893D-5DDF-4B68-9E2B-4979D5956C8E.jpeg     \b\b\b\b  7%\b\b\b\b\b  OK \n",
            "Extracting  CovidDataset/Train/Covid/2C26F453-AF3B-4517-BB9E-802CF2179543.jpeg     \b\b\b\b  8%\b\b\b\b\b  OK \n",
            "Extracting  CovidDataset/Train/Covid/2cd63b76.jpg                        \b\b\b\b  8%\b\b\b\b\b  OK \n",
            "Extracting  CovidDataset/Train/Covid/2edb88df42cab5e5fbc18b3965e0bd_jumbo.jpeg     \b\b\b\b  8%\b\b\b\b\b  OK \n",
            "Extracting  CovidDataset/Train/Covid/353889E0-A1E8-4F9E-A0B8-F24F36BCFBFB.jpeg     \b\b\b\b  9%\b\b\b\b\b  OK \n",
            "Extracting  CovidDataset/Train/Covid/3b46de94.jpg                        \b\b\b\b  9%\b\b\b\b\b  OK \n",
            "Extracting  CovidDataset/Train/Covid/40779_2020_233_Fig2_HTML-a.png      \b\b\b\b  9%\b\b\b\b\b  OK \n",
            "Extracting  CovidDataset/Train/Covid/41182_2020_203_Fig3_HTML.jpg        \b\b\b\b  9%\b\b\b\b\b  OK \n",
            "Extracting  CovidDataset/Train/Covid/41182_2020_203_Fig4_HTML.jpg        \b\b\b\b  9%\b\b\b\b\b  OK \n",
            "Extracting  CovidDataset/Train/Covid/41182_2020_203_Fig5_HTML.jpg        \b\b\b\b 10%\b\b\b\b\b  OK \n",
            "Extracting  CovidDataset/Train/Covid/41379_2020_536_Fig2_HTML-c1.png     \b\b\b\b 10%\b\b\b\b\b  OK \n",
            "Extracting  CovidDataset/Train/Covid/41591_2020_819_Fig1_HTML.webp-day10.png     \b\b\b\b 10%\b\b\b\b\b  OK \n",
            "Extracting  CovidDataset/Train/Covid/41591_2020_819_Fig1_HTML.webp-day5.png     \b\b\b\b 10%\b\b\b\b\b  OK \n",
            "Extracting  CovidDataset/Train/Covid/441c9cdd.jpg                        \b\b\b\b 10%\b\b\b\b\b  OK \n",
            "Extracting  CovidDataset/Train/Covid/48c4542c.jpg                        \b\b\b\b 10%\b\b\b\b\b  OK \n",
            "Extracting  CovidDataset/Train/Covid/4d98e1de.jpg                        \b\b\b\b 10%\b\b\b\b\b  OK \n",
            "Extracting  CovidDataset/Train/Covid/4e43e48d52c9e2d4c6c1fb9bc1544f_jumbo.jpeg     \b\b\b\b 10%\b\b\b\b\b  OK \n",
            "Extracting  CovidDataset/Train/Covid/53EC07C9-5CC6-4BE4-9B6F-D7B0D72AAA7E.jpeg     \b\b\b\b 11%\b\b\b\b\b  OK \n",
            "Extracting  CovidDataset/Train/Covid/5782ae15.jpg                        \b\b\b\b 11%\b\b\b\b\b  OK \n",
            "Extracting  CovidDataset/Train/Covid/58cb9263f16e94305c730685358e4e_jumbo.jpeg     \b\b\b\b 11%\b\b\b\b\b  OK \n",
            "Extracting  CovidDataset/Train/Covid/5f619d7e.jpg                        \b\b\b\b 11%\b\b\b\b\b  OK \n",
            "Extracting  CovidDataset/Train/Covid/6b3bdbc31f65230b8cdcc3cef5f8ba8a-40ac-0.jpg     \b\b\b\b 11%\b\b\b\b\b  OK \n",
            "Extracting  CovidDataset/Train/Covid/6b44464d-73a7-4cf3-bbb6-ffe7168300e3.annot.original.jpeg     \b\b\b\b 11%\b\b\b\b\b  OK \n",
            "Extracting  CovidDataset/Train/Covid/6C94A287-C059-46A0-8600-AFB95F4727B7.jpeg     \b\b\b\b 11%\b\b\b\b\b  OK \n",
            "Extracting  CovidDataset/Train/Covid/6CB4EFC6-68FA-4CD5-940C-BEFA8DAFE9A7.jpeg     \b\b\b\b 12%\b\b\b\b\b  OK \n",
            "Extracting  CovidDataset/Train/Covid/7-fatal-covid19.jpg                 \b\b\b\b 12%\b\b\b\b\b  OK \n",
            "Extracting  CovidDataset/Train/Covid/7AF6C1AF-D249-4BD2-8C26-449304105D03.jpeg     \b\b\b\b 12%\b\b\b\b\b  OK \n",
            "Extracting  CovidDataset/Train/Covid/7afaaccc.jpg                        \b\b\b\b 12%\b\b\b\b\b  OK \n",
            "Extracting  CovidDataset/Train/Covid/7C69C012-7479-493F-8722-ABC29C60A2DD.jpeg     \b\b\b\b 12%\b\b\b\b\b  OK \n",
            "Extracting  CovidDataset/Train/Covid/80446565-E090-4187-A031-9D3CEAA586C8.jpeg     \b\b\b\b 12%\b\b\b\b\b  OK \n",
            "Extracting  CovidDataset/Train/Covid/80b5f00f.jpg                        \b\b\b\b 12%\b\b\b\b 13%\b\b\b\b\b  OK \n",
            "Extracting  CovidDataset/Train/Covid/82a78c13.jpg                        \b\b\b\b 13%\b\b\b\b\b  OK \n",
            "Extracting  CovidDataset/Train/Covid/88de9d8c39e946abd495b37cd07d89e5-2ee6-0.jpg     \b\b\b\b 13%\b\b\b\b\b  OK \n",
            "Extracting  CovidDataset/Train/Covid/88de9d8c39e946abd495b37cd07d89e5-6531-0.jpg     \b\b\b\b 13%\b\b\b\b\b  OK \n",
            "Extracting  CovidDataset/Train/Covid/8da14fff.jpg                        \b\b\b\b 13%\b\b\b\b\b  OK \n",
            "Extracting  CovidDataset/Train/Covid/8fc103ca.jpg                        \b\b\b\b 13%\b\b\b\b 14%\b\b\b\b\b  OK \n",
            "Extracting  CovidDataset/Train/Covid/8FDE8DBA-CFBD-4B4C-B1A4-6F36A93B7E87.jpeg     \b\b\b\b 14%\b\b\b\b\b  OK \n",
            "Extracting  CovidDataset/Train/Covid/90986ce4.jpg                        \b\b\b\b 14%\b\b\b\b\b  OK \n",
            "Extracting  CovidDataset/Train/Covid/93FE0BB1-022D-4F24-9727-987A07975FFB.jpeg     \b\b\b\b 14%\b\b\b\b\b  OK \n",
            "Extracting  CovidDataset/Train/Covid/9C34AF49-E589-44D5-92D3-168B3B04E4A6.jpeg     \b\b\b\b 14%\b\b\b\b\b  OK \n",
            "Extracting  CovidDataset/Train/Covid/9fdd3c3032296fd04d2cad5d9070d4_jumbo.jpeg     \b\b\b\b 14%\b\b\b\b\b  OK \n",
            "Extracting  CovidDataset/Train/Covid/a2eba651.jpg                        \b\b\b\b 15%\b\b\b\b\b  OK \n",
            "Extracting  CovidDataset/Train/Covid/a8ac1969.jpg                        \b\b\b\b 15%\b\b\b\b\b  OK \n",
            "Creating    CovidDataset/Train/Normal                                 OK\n",
            "Extracting  CovidDataset/Train/Normal/IM-0115-0001.jpeg                  \b\b\b\b 15%\b\b\b\b\b  OK \n",
            "Extracting  CovidDataset/Train/Normal/IM-0117-0001.jpeg                  \b\b\b\b 16%\b\b\b\b\b  OK \n",
            "Extracting  CovidDataset/Train/Normal/IM-0119-0001.jpeg                  \b\b\b\b 16%\b\b\b\b\b  OK \n",
            "Extracting  CovidDataset/Train/Normal/IM-0122-0001.jpeg                  \b\b\b\b 16%\b\b\b\b\b  OK \n",
            "Extracting  CovidDataset/Train/Normal/IM-0125-0001.jpeg                  \b\b\b\b 17%\b\b\b\b\b  OK \n",
            "Extracting  CovidDataset/Train/Normal/IM-0127-0001.jpeg                  \b\b\b\b 17%\b\b\b\b\b  OK \n",
            "Extracting  CovidDataset/Train/Normal/IM-0128-0001.jpeg                  \b\b\b\b 17%\b\b\b\b\b  OK \n",
            "Extracting  CovidDataset/Train/Normal/IM-0129-0001.jpeg                  \b\b\b\b 17%\b\b\b\b\b  OK \n",
            "Extracting  CovidDataset/Train/Normal/IM-0131-0001.jpeg                  \b\b\b\b 18%\b\b\b\b\b  OK \n",
            "Extracting  CovidDataset/Train/Normal/IM-0133-0001.jpeg                  \b\b\b\b 18%\b\b\b\b\b  OK \n",
            "Extracting  CovidDataset/Train/Normal/IM-0135-0001.jpeg                  \b\b\b\b 18%\b\b\b\b\b  OK \n",
            "Extracting  CovidDataset/Train/Normal/IM-0137-0001.jpeg                  \b\b\b\b 19%\b\b\b\b\b  OK \n",
            "Extracting  CovidDataset/Train/Normal/IM-0140-0001.jpeg                  \b\b\b\b 19%\b\b\b\b\b  OK \n",
            "Extracting  CovidDataset/Train/Normal/IM-0141-0001.jpeg                  \b\b\b\b 19%\b\b\b\b\b  OK \n",
            "Extracting  CovidDataset/Train/Normal/IM-0143-0001.jpeg                  \b\b\b\b 20%\b\b\b\b\b  OK \n",
            "Extracting  CovidDataset/Train/Normal/IM-0145-0001.jpeg                  \b\b\b\b 20%\b\b\b\b\b  OK \n",
            "Extracting  CovidDataset/Train/Normal/IM-0147-0001.jpeg                  \b\b\b\b 21%\b\b\b\b\b  OK \n",
            "Extracting  CovidDataset/Train/Normal/IM-0149-0001.jpeg                  \b\b\b\b 21%\b\b\b\b\b  OK \n",
            "Extracting  CovidDataset/Train/Normal/IM-0151-0001.jpeg                  \b\b\b\b 21%\b\b\b\b\b  OK \n",
            "Extracting  CovidDataset/Train/Normal/IM-0152-0001.jpeg                  \b\b\b\b 22%\b\b\b\b\b  OK \n",
            "Extracting  CovidDataset/Train/Normal/IM-0154-0001.jpeg                  \b\b\b\b 22%\b\b\b\b\b  OK \n",
            "Extracting  CovidDataset/Train/Normal/IM-0156-0001.jpeg                  \b\b\b\b 22%\b\b\b\b\b  OK \n",
            "Extracting  CovidDataset/Train/Normal/IM-0158-0001.jpeg                  \b\b\b\b 22%\b\b\b\b\b  OK \n",
            "Extracting  CovidDataset/Train/Normal/IM-0160-0001.jpeg                  \b\b\b\b 23%\b\b\b\b\b  OK \n",
            "Extracting  CovidDataset/Train/Normal/IM-0162-0001.jpeg                  \b\b\b\b 23%\b\b\b\b\b  OK \n",
            "Extracting  CovidDataset/Train/Normal/IM-0164-0001.jpeg                  \b\b\b\b 23%\b\b\b\b\b  OK \n",
            "Extracting  CovidDataset/Train/Normal/IM-0166-0001.jpeg                  \b\b\b\b 24%\b\b\b\b\b  OK \n",
            "Extracting  CovidDataset/Train/Normal/IM-0168-0001.jpeg                  \b\b\b\b 24%\b\b\b\b\b  OK \n",
            "Extracting  CovidDataset/Train/Normal/IM-0170-0001.jpeg                  \b\b\b\b 25%\b\b\b\b\b  OK \n",
            "Extracting  CovidDataset/Train/Normal/IM-0172-0001.jpeg                  \b\b\b\b 25%\b\b\b\b\b  OK \n",
            "Extracting  CovidDataset/Train/Normal/IM-0176-0001.jpeg                  \b\b\b\b 25%\b\b\b\b\b  OK \n",
            "Extracting  CovidDataset/Train/Normal/IM-0177-0001.jpeg                  \b\b\b\b 26%\b\b\b\b\b  OK \n",
            "Extracting  CovidDataset/Train/Normal/IM-0178-0001.jpeg                  \b\b\b\b 26%\b\b\b\b\b  OK \n",
            "Extracting  CovidDataset/Train/Normal/IM-0180-0001.jpeg                  \b\b\b\b 27%\b\b\b\b\b  OK \n",
            "Extracting  CovidDataset/Train/Normal/IM-0182-0001.jpeg                  \b\b\b\b 27%\b\b\b\b\b  OK \n",
            "Extracting  CovidDataset/Train/Normal/IM-0183-0001.jpeg                  \b\b\b\b 28%\b\b\b\b\b  OK \n",
            "Extracting  CovidDataset/Train/Normal/IM-0185-0001.jpeg                  \b\b\b\b 28%\b\b\b\b\b  OK \n",
            "Extracting  CovidDataset/Train/Normal/IM-0187-0001.jpeg                  \b\b\b\b 28%\b\b\b\b\b  OK \n",
            "Extracting  CovidDataset/Train/Normal/IM-0189-0001.jpeg                  \b\b\b\b 28%\b\b\b\b\b  OK \n",
            "Extracting  CovidDataset/Train/Normal/IM-0191-0001.jpeg                  \b\b\b\b 29%\b\b\b\b\b  OK \n",
            "Extracting  CovidDataset/Train/Normal/IM-0193-0001.jpeg                  \b\b\b\b 30%\b\b\b\b\b  OK \n",
            "Extracting  CovidDataset/Train/Normal/IM-0195-0001.jpeg                  \b\b\b\b 30%\b\b\b\b\b  OK \n",
            "Extracting  CovidDataset/Train/Normal/IM-0199-0001.jpeg                  \b\b\b\b 30%\b\b\b\b\b  OK \n",
            "Extracting  CovidDataset/Train/Normal/IM-0201-0001.jpeg                  \b\b\b\b 30%\b\b\b\b\b  OK \n",
            "Extracting  CovidDataset/Train/Normal/IM-0203-0001.jpeg                  \b\b\b\b 31%\b\b\b\b\b  OK \n",
            "Extracting  CovidDataset/Train/Normal/IM-0205-0001.jpeg                  \b\b\b\b 31%\b\b\b\b\b  OK \n",
            "Extracting  CovidDataset/Train/Normal/IM-0206-0001.jpeg                  \b\b\b\b 31%\b\b\b\b\b  OK \n",
            "Extracting  CovidDataset/Train/Normal/IM-0207-0001.jpeg                  \b\b\b\b 31%\b\b\b\b\b  OK \n",
            "Extracting  CovidDataset/Train/Normal/IM-0209-0001.jpeg                  \b\b\b\b 32%\b\b\b\b\b  OK \n",
            "Extracting  CovidDataset/Train/Normal/IM-0210-0001.jpeg                  \b\b\b\b 32%\b\b\b\b\b  OK \n",
            "Extracting  CovidDataset/Train/Normal/IM-0222-0001.jpeg                  \b\b\b\b 32%\b\b\b\b\b  OK \n",
            "Extracting  CovidDataset/Train/Normal/IM-0223-0001.jpeg                  \b\b\b\b 32%\b\b\b\b\b  OK \n",
            "Extracting  CovidDataset/Train/Normal/IM-0224-0001.jpeg                  \b\b\b\b 33%\b\b\b\b\b  OK \n",
            "Extracting  CovidDataset/Train/Normal/IM-0225-0001.jpeg                  \b\b\b\b 33%\b\b\b\b\b  OK \n",
            "Extracting  CovidDataset/Train/Normal/IM-0226-0001.jpeg                  \b\b\b\b 34%\b\b\b\b\b  OK \n",
            "Extracting  CovidDataset/Train/Normal/IM-0227-0001.jpeg                  \b\b\b\b 34%\b\b\b\b\b  OK \n",
            "Extracting  CovidDataset/Train/Normal/IM-0228-0001.jpeg                  \b\b\b\b 34%\b\b\b\b\b  OK \n",
            "Extracting  CovidDataset/Train/Normal/IM-0229-0001.jpeg                  \b\b\b\b 35%\b\b\b\b\b  OK \n",
            "Extracting  CovidDataset/Train/Normal/IM-0230-0001.jpeg                  \b\b\b\b 35%\b\b\b\b\b  OK \n",
            "Extracting  CovidDataset/Train/Normal/IM-0231-0001.jpeg                  \b\b\b\b 35%\b\b\b\b\b  OK \n",
            "Extracting  CovidDataset/Train/Normal/IM-0234-0001.jpeg                  \b\b\b\b 35%\b\b\b\b\b  OK \n",
            "Extracting  CovidDataset/Train/Normal/IM-0235-0001.jpeg                  \b\b\b\b 36%\b\b\b\b\b  OK \n",
            "Extracting  CovidDataset/Train/Normal/IM-0236-0001.jpeg                  \b\b\b\b 36%\b\b\b\b\b  OK \n",
            "Extracting  CovidDataset/Train/Normal/IM-0237-0001.jpeg                  \b\b\b\b 36%\b\b\b\b\b  OK \n",
            "Extracting  CovidDataset/Train/Normal/IM-0238-0001.jpeg                  \b\b\b\b 37%\b\b\b\b\b  OK \n",
            "Extracting  CovidDataset/Train/Normal/IM-0239-0001.jpeg                  \b\b\b\b 37%\b\b\b\b\b  OK \n",
            "Extracting  CovidDataset/Train/Normal/IM-0240-0001.jpeg                  \b\b\b\b 37%\b\b\b\b\b  OK \n",
            "Extracting  CovidDataset/Train/Normal/IM-0241-0001.jpeg                  \b\b\b\b 38%\b\b\b\b\b  OK \n",
            "Extracting  CovidDataset/Train/Normal/IM-0242-0001.jpeg                  \b\b\b\b 38%\b\b\b\b\b  OK \n",
            "Extracting  CovidDataset/Train/Normal/IM-0243-0001.jpeg                  \b\b\b\b 39%\b\b\b\b\b  OK \n",
            "Extracting  CovidDataset/Train/Normal/IM-0244-0001.jpeg                  \b\b\b\b 39%\b\b\b\b\b  OK \n",
            "Extracting  CovidDataset/Train/Normal/IM-0245-0001.jpeg                  \b\b\b\b 39%\b\b\b\b\b  OK \n",
            "Extracting  CovidDataset/Train/Normal/IM-0248-0001.jpeg                  \b\b\b\b 39%\b\b\b\b\b  OK \n",
            "Extracting  CovidDataset/Train/Normal/IM-0249-0001.jpeg                  \b\b\b\b 40%\b\b\b\b\b  OK \n",
            "Extracting  CovidDataset/Train/Normal/IM-0250-0001.jpeg                  \b\b\b\b 40%\b\b\b\b\b  OK \n",
            "Extracting  CovidDataset/Train/Normal/IM-0251-0001.jpeg                  \b\b\b\b 41%\b\b\b\b\b  OK \n",
            "Extracting  CovidDataset/Train/Normal/IM-0253-0001.jpeg                  \b\b\b\b 41%\b\b\b\b\b  OK \n",
            "Extracting  CovidDataset/Train/Normal/IM-0255-0001.jpeg                  \b\b\b\b 41%\b\b\b\b\b  OK \n",
            "Extracting  CovidDataset/Train/Normal/IM-0256-0001.jpeg                  \b\b\b\b 41%\b\b\b\b\b  OK \n",
            "Extracting  CovidDataset/Train/Normal/IM-0257-0001.jpeg                  \b\b\b\b 42%\b\b\b\b\b  OK \n",
            "Extracting  CovidDataset/Train/Normal/IM-0261-0001.jpeg                  \b\b\b\b 42%\b\b\b\b\b  OK \n",
            "Extracting  CovidDataset/Train/Normal/IM-0262-0001.jpeg                  \b\b\b\b 42%\b\b\b\b\b  OK \n",
            "Extracting  CovidDataset/Train/Normal/IM-0264-0001.jpeg                  \b\b\b\b 43%\b\b\b\b\b  OK \n",
            "Extracting  CovidDataset/Train/Normal/IM-0265-0001.jpeg                  \b\b\b\b 43%\b\b\b\b\b  OK \n",
            "Extracting  CovidDataset/Train/Normal/IM-0266-0001.jpeg                  \b\b\b\b 43%\b\b\b\b\b  OK \n",
            "Extracting  CovidDataset/Train/Normal/IM-0268-0001.jpeg                  \b\b\b\b 44%\b\b\b\b\b  OK \n",
            "Extracting  CovidDataset/Train/Normal/IM-0269-0001.jpeg                  \b\b\b\b 44%\b\b\b\b\b  OK \n",
            "Extracting  CovidDataset/Train/Normal/IM-0270-0001.jpeg                  \b\b\b\b 44%\b\b\b\b\b  OK \n",
            "Extracting  CovidDataset/Train/Normal/IM-0272-0001.jpeg                  \b\b\b\b 45%\b\b\b\b\b  OK \n",
            "Extracting  CovidDataset/Train/Normal/IM-0273-0001.jpeg                  \b\b\b\b 45%\b\b\b\b\b  OK \n",
            "Extracting  CovidDataset/Train/Normal/IM-0274-0001.jpeg                  \b\b\b\b 45%\b\b\b\b\b  OK \n",
            "Extracting  CovidDataset/Train/Normal/IM-0275-0001.jpeg                  \b\b\b\b 46%\b\b\b\b\b  OK \n",
            "Extracting  CovidDataset/Train/Normal/IM-0276-0001.jpeg                  \b\b\b\b 46%\b\b\b\b\b  OK \n",
            "Extracting  CovidDataset/Train/Normal/IM-0277-0001.jpeg                  \b\b\b\b 46%\b\b\b\b\b  OK \n",
            "Extracting  CovidDataset/Train/Normal/IM-0278-0001.jpeg                  \b\b\b\b 47%\b\b\b\b\b  OK \n",
            "Extracting  CovidDataset/Train/Normal/IM-0279-0001.jpeg                  \b\b\b\b 47%\b\b\b\b\b  OK \n",
            "Creating    CovidDataset/Val                                          OK\n",
            "Creating    CovidDataset/Val/Covid                                    OK\n",
            "Extracting  CovidDataset/Val/Covid/a361d7b7.jpg                          \b\b\b\b 47%\b\b\b\b\b  OK \n",
            "Extracting  CovidDataset/Val/Covid/ac4f6e4e.jpg                          \b\b\b\b 48%\b\b\b\b\b  OK \n",
            "Extracting  CovidDataset/Val/Covid/all14238-fig-0001-m-b.jpg             \b\b\b\b 48%\b\b\b\b\b  OK \n",
            "Extracting  CovidDataset/Val/Covid/all14238-fig-0001-m-c.jpg             \b\b\b\b 48%\b\b\b\b\b  OK \n",
            "Extracting  CovidDataset/Val/Covid/AR-1.jpg                              \b\b\b\b 48%\b\b\b\b\b  OK \n",
            "Extracting  CovidDataset/Val/Covid/AR-2.jpg                              \b\b\b\b 48%\b\b\b\b\b  OK \n",
            "Extracting  CovidDataset/Val/Covid/article_river_e4d185c06e3511eaa2321d8ab357a1de-c1mn.png     \b\b\b\b 48%\b\b\b\b\b  OK \n",
            "Extracting  CovidDataset/Val/Covid/auntminnie-a-2020_01_28_23_51_6665_2020_01_28_Vietnam_coronavirus.jpeg     \b\b\b\b 48%\b\b\b\b\b  OK \n",
            "Extracting  CovidDataset/Val/Covid/auntminnie-b-2020_01_28_23_51_6665_2020_01_28_Vietnam_coronavirus.jpeg     \b\b\b\b 49%\b\b\b\b\b  OK \n",
            "Extracting  CovidDataset/Val/Covid/auntminnie-c-2020_01_28_23_51_6665_2020_01_28_Vietnam_coronavirus.jpeg     \b\b\b\b 49%\b\b\b\b\b  OK \n",
            "Extracting  CovidDataset/Val/Covid/auntminnie-d-2020_01_28_23_51_6665_2020_01_28_Vietnam_coronavirus.jpeg     \b\b\b\b 49%\b\b\b\b\b  OK \n",
            "Extracting  CovidDataset/Val/Covid/b0f1684d1ee90dc09deef015e29dae_jumbo.jpeg     \b\b\b\b 49%\b\b\b\b\b  OK \n",
            "Extracting  CovidDataset/Val/Covid/b9673e89.jpg                          \b\b\b\b 49%\b\b\b\b\b  OK \n",
            "Extracting  CovidDataset/Val/Covid/bb0e626a.jpg                          \b\b\b\b 49%\b\b\b\b 50%\b\b\b\b\b  OK \n",
            "Extracting  CovidDataset/Val/Covid/bd10d5e2.jpg                          \b\b\b\b 50%\b\b\b\b\b  OK \n",
            "Extracting  CovidDataset/Val/Covid/BMJ-37-163-g1.jpg                     \b\b\b\b 50%\b\b\b\b\b  OK \n",
            "Extracting  CovidDataset/Val/Covid/c0f74558.jpg                          \b\b\b\b 51%\b\b\b\b\b  OK \n",
            "Extracting  CovidDataset/Val/Covid/c3829ecb.jpg                          \b\b\b\b 51%\b\b\b\b\b  OK \n",
            "Extracting  CovidDataset/Val/Covid/c601f50d.jpg                          \b\b\b\b 51%\b\b\b\b\b  OK \n",
            "Extracting  CovidDataset/Val/Covid/CD50BA96-6982-4C80-AE7B-5F67ACDBFA56.jpeg     \b\b\b\b 52%\b\b\b\b\b  OK \n",
            "Extracting  CovidDataset/Val/Covid/ciaa199.pdf-001-a.png                 \b\b\b\b 52%\b\b\b\b\b  OK \n",
            "Extracting  CovidDataset/Val/Covid/ciaa199.pdf-001-b.png                 \b\b\b\b 52%\b\b\b\b\b  OK \n",
            "Extracting  CovidDataset/Val/Covid/covid-19-caso-70-1-PA.jpg             \b\b\b\b 52%\b\b\b\b\b  OK \n",
            "Extracting  CovidDataset/Val/Covid/covid-19-caso-82-1-8.png              \b\b\b\b 53%\b\b\b\b\b  OK \n",
            "Extracting  CovidDataset/Val/Covid/covid-19-caso-91-1-12.png             \b\b\b\b 53%\b\b\b\b\b  OK \n",
            "Extracting  CovidDataset/Val/Covid/covid-19-caso-94-1-14.png             \b\b\b\b 54%\b\b\b\b\b  OK \n",
            "Extracting  CovidDataset/Val/Covid/covid-19-caso-95-1-15.png             \b\b\b\b 54%\b\b\b\b\b  OK \n",
            "Extracting  CovidDataset/Val/Covid/covid-19-caso-95-3-14.png             \b\b\b\b 54%\b\b\b\b\b  OK \n",
            "Extracting  CovidDataset/Val/Covid/covid-19-infection-exclusive-gastrointestinal-symptoms-pa.png     \b\b\b\b 55%\b\b\b\b\b  OK \n",
            "Extracting  CovidDataset/Val/Covid/covid-19-pneumonia-14-PA.png          \b\b\b\b 58%\b\b\b\b\b  OK \n",
            "Extracting  CovidDataset/Val/Covid/covid-19-pneumonia-15-PA.jpg          \b\b\b\b 59%\b\b\b\b\b  OK \n",
            "Extracting  CovidDataset/Val/Covid/covid-19-pneumonia-20-pa-on-admission.jpg     \b\b\b\b 59%\b\b\b\b\b  OK \n",
            "Extracting  CovidDataset/Val/Covid/covid-19-pneumonia-20.jpg             \b\b\b\b 59%\b\b\b\b\b  OK \n",
            "Extracting  CovidDataset/Val/Covid/covid-19-pneumonia-22-day1-pa.png     \b\b\b\b 60%\b\b\b\b\b  OK \n",
            "Extracting  CovidDataset/Val/Covid/covid-19-pneumonia-22-day2-pa.png     \b\b\b\b 60%\b\b\b\b\b  OK \n",
            "Extracting  CovidDataset/Val/Covid/covid-19-pneumonia-28.png             \b\b\b\b 61%\b\b\b\b\b  OK \n",
            "Extracting  CovidDataset/Val/Covid/covid-19-pneumonia-30-PA.jpg          \b\b\b\b 61%\b\b\b\b\b  OK \n",
            "Extracting  CovidDataset/Val/Covid/covid-19-pneumonia-35-1.jpg           \b\b\b\b 62%\b\b\b\b\b  OK \n",
            "Extracting  CovidDataset/Val/Covid/covid-19-pneumonia-35-2.jpg           \b\b\b\b 62%\b\b\b\b\b  OK \n",
            "Extracting  CovidDataset/Val/Covid/covid-19-pneumonia-38-pa.jpg          \b\b\b\b 63%\b\b\b\b\b  OK \n",
            "Extracting  CovidDataset/Val/Covid/covid-19-pneumonia-44-day-0.jpeg      \b\b\b\b 63%\b\b\b\b\b  OK \n",
            "Extracting  CovidDataset/Val/Covid/covid-19-pneumonia-53.jpg             \b\b\b\b 63%\b\b\b\b\b  OK \n",
            "Extracting  CovidDataset/Val/Covid/covid-19-pneumonia-7-PA.jpg           \b\b\b\b 63%\b\b\b\b\b  OK \n",
            "Extracting  CovidDataset/Val/Covid/covid-19-pneumonia-8.jpg              \b\b\b\b 63%\b\b\b\b\b  OK \n",
            "Extracting  CovidDataset/Val/Covid/covid-19-pneumonia-93.png             \b\b\b\b 63%\b\b\b\b\b  OK \n",
            "Extracting  CovidDataset/Val/Covid/covid-19-pneumonia-evolution-over-a-week-1-day0-PA.jpg     \b\b\b\b 63%\b\b\b\b\b  OK \n",
            "Extracting  CovidDataset/Val/Covid/covid-19-pneumonia-mild.JPG           \b\b\b\b 64%\b\b\b\b\b  OK \n",
            "Extracting  CovidDataset/Val/Covid/covid-19-pneumonia-rapidly-progressive-12-hours.jpg     \b\b\b\b 64%\b\b\b\b\b  OK \n",
            "Extracting  CovidDataset/Val/Covid/covid-19-pneumonia-rapidly-progressive-3-days.jpg     \b\b\b\b 64%\b\b\b\b\b  OK \n",
            "Extracting  CovidDataset/Val/Covid/covid-19-pneumonia-rapidly-progressive-admission.jpg     \b\b\b\b 64%\b\b\b\b\b  OK \n",
            "Extracting  CovidDataset/Val/Covid/covid-19-rapidly-progressive-acute-respiratory-distress-syndrome-ards-admission.jpg     \b\b\b\b 64%\b\b\b\b\b  OK \n",
            "Extracting  CovidDataset/Val/Covid/covid-19-rapidly-progressive-acute-respiratory-distress-syndrome-ards-day-1.jpg     \b\b\b\b 64%\b\b\b\b\b  OK \n",
            "Extracting  CovidDataset/Val/Covid/covid-19-rapidly-progressive-acute-respiratory-distress-syndrome-ards-day-2.jpg     \b\b\b\b 64%\b\b\b\b\b  OK \n",
            "Extracting  CovidDataset/Val/Covid/covid-19-rapidly-progressive-acute-respiratory-distress-syndrome-ards-day-3.jpg     \b\b\b\b 64%\b\b\b\b\b  OK \n",
            "Extracting  CovidDataset/Val/Covid/d009d61f.jpg                          \b\b\b\b 64%\b\b\b\b\b  OK \n",
            "Extracting  CovidDataset/Val/Covid/d9d6ca9a.jpg                          \b\b\b\b 65%\b\b\b\b\b  OK \n",
            "Extracting  CovidDataset/Val/Covid/e1446fe8.jpg                          \b\b\b\b 65%\b\b\b\b\b  OK \n",
            "Extracting  CovidDataset/Val/Covid/E63574A7-4188-4C8D-8D17-9D67A18A1AFA.jpeg     \b\b\b\b 65%\b\b\b\b\b  OK \n",
            "Extracting  CovidDataset/Val/Covid/ec083e35.jpg                          \b\b\b\b 65%\b\b\b\b\b  OK \n",
            "Extracting  CovidDataset/Val/Covid/extubation-1.jpg                      \b\b\b\b 65%\b\b\b\b\b  OK \n",
            "Extracting  CovidDataset/Val/Covid/extubation-13.jpg                     \b\b\b\b 65%\b\b\b\b\b  OK \n",
            "Extracting  CovidDataset/Val/Covid/extubation-4.jpg                      \b\b\b\b 65%\b\b\b\b\b  OK \n",
            "Extracting  CovidDataset/Val/Covid/extubation-8.jpg                      \b\b\b\b 65%\b\b\b\b\b  OK \n",
            "Extracting  CovidDataset/Val/Covid/F4341CE7-73C9-45C6-99C8-8567A5484B63.jpeg     \b\b\b\b 66%\b\b\b\b\b  OK \n",
            "Extracting  CovidDataset/Val/Covid/f64132c8.jpg                          \b\b\b\b 66%\b\b\b\b\b  OK \n",
            "Extracting  CovidDataset/Val/Covid/f6575117.jpg                          \b\b\b\b 66%\b\b\b\b\b  OK \n",
            "Extracting  CovidDataset/Val/Covid/f6d980a0.jpg                          \b\b\b\b 66%\b\b\b\b\b  OK \n",
            "Extracting  CovidDataset/Val/Covid/f8335316.jpg                          \b\b\b\b 67%\b\b\b\b\b  OK \n",
            "Extracting  CovidDataset/Val/Covid/FE9F9A5D-2830-46F9-851B-1FF4534959BE.jpeg     \b\b\b\b 67%\b\b\b\b\b  OK \n",
            "Extracting  CovidDataset/Val/Covid/fff49165-b22d-4bb4-b9d1-d5d62c52436c.annot.original.png     \b\b\b\b 67%\b\b\b\b\b  OK \n",
            "Extracting  CovidDataset/Val/Covid/figure1-5e71be566aa8714a04de3386-98-left.jpeg     \b\b\b\b 67%\b\b\b\b 68%\b\b\b\b\b  OK \n",
            "Extracting  CovidDataset/Val/Covid/figure1-5e75d0940b71e1b702629659-98-right.jpeg     \b\b\b\b 68%\b\b\b\b\b  OK \n",
            "Extracting  CovidDataset/Val/Covid/gr1_lrg-a.jpg                         \b\b\b\b 68%\b\b\b\b\b  OK \n",
            "Extracting  CovidDataset/Val/Covid/gr1_lrg-b.jpg                         \b\b\b\b 68%\b\b\b\b\b  OK \n",
            "Extracting  CovidDataset/Val/Covid/kjr-21-e25-g001-l-a.jpg               \b\b\b\b 68%\b\b\b\b\b  OK \n",
            "Extracting  CovidDataset/Val/Covid/lancet-case2a.jpg                     \b\b\b\b 68%\b\b\b\b\b  OK \n",
            "Extracting  CovidDataset/Val/Covid/lancet-case2b.jpg                     \b\b\b\b 68%\b\b\b\b\b  OK \n",
            "Extracting  CovidDataset/Val/Covid/nCoV-radiol.2020200269.fig1-day7.jpeg     \b\b\b\b 68%\b\b\b\b\b  OK \n",
            "Extracting  CovidDataset/Val/Covid/nejmc2001573_f1a.jpeg                 \b\b\b\b 68%\b\b\b\b\b  OK \n",
            "Extracting  CovidDataset/Val/Covid/nejmc2001573_f1b.jpeg                 \b\b\b\b 69%\b\b\b\b\b  OK \n",
            "Extracting  CovidDataset/Val/Covid/nejmoa2001191_f1-PA.jpeg              \b\b\b\b 69%\b\b\b\b\b  OK \n",
            "Extracting  CovidDataset/Val/Covid/nejmoa2001191_f3-PA.jpeg              \b\b\b\b 69%\b\b\b\b\b  OK \n",
            "Extracting  CovidDataset/Val/Covid/nejmoa2001191_f4.jpeg                 \b\b\b\b 69%\b\b\b\b\b  OK \n",
            "Extracting  CovidDataset/Val/Covid/nejmoa2001191_f5-PA.jpeg              \b\b\b\b 69%\b\b\b\b\b  OK \n",
            "Extracting  CovidDataset/Val/Covid/paving.jpg                            \b\b\b\b 69%\b\b\b\b\b  OK \n",
            "Extracting  CovidDataset/Val/Covid/radiol.2020200274.fig3d.png           \b\b\b\b 69%\b\b\b\b\b  OK \n",
            "Extracting  CovidDataset/Val/Covid/radiol.2020200490.fig3.jpeg           \b\b\b\b 69%\b\b\b\b\b  OK \n",
            "Extracting  CovidDataset/Val/Covid/ryct.2020003.fig2-a.png               \b\b\b\b 69%\b\b\b\b\b  OK \n",
            "Extracting  CovidDataset/Val/Covid/ryct.2020003.fig2-b.png               \b\b\b\b 69%\b\b\b\b\b  OK \n",
            "Extracting  CovidDataset/Val/Covid/ryct.2020003.fig2-c.png               \b\b\b\b 69%\b\b\b\b\b  OK \n",
            "Extracting  CovidDataset/Val/Covid/ryct.2020200028.fig1a.jpeg            \b\b\b\b 71%\b\b\b\b\b  OK \n",
            "Extracting  CovidDataset/Val/Covid/ryct.2020200034.fig2.jpeg             \b\b\b\b 71%\b\b\b\b\b  OK \n",
            "Extracting  CovidDataset/Val/Covid/ryct.2020200034.fig5-day0.jpeg        \b\b\b\b 71%\b\b\b\b\b  OK \n",
            "Extracting  CovidDataset/Val/Covid/ryct.2020200034.fig5-day4.jpeg        \b\b\b\b 71%\b\b\b\b\b  OK \n",
            "Extracting  CovidDataset/Val/Covid/ryct.2020200034.fig5-day7.jpeg        \b\b\b\b 71%\b\b\b\b\b  OK \n",
            "Extracting  CovidDataset/Val/Covid/thnov10p5641g006-c.png                \b\b\b\b 71%\b\b\b\b\b  OK \n",
            "Creating    CovidDataset/Val/Normal                                   OK\n",
            "Extracting  CovidDataset/Val/Normal/IM-0280-0001.jpeg                    \b\b\b\b 71%\b\b\b\b\b  OK \n",
            "Extracting  CovidDataset/Val/Normal/IM-0282-0001.jpeg                    \b\b\b\b 72%\b\b\b\b\b  OK \n",
            "Extracting  CovidDataset/Val/Normal/IM-0283-0001.jpeg                    \b\b\b\b 72%\b\b\b\b\b  OK \n",
            "Extracting  CovidDataset/Val/Normal/IM-0285-0001.jpeg                    \b\b\b\b 72%\b\b\b\b\b  OK \n",
            "Extracting  CovidDataset/Val/Normal/IM-0286-0001.jpeg                    \b\b\b\b 73%\b\b\b\b\b  OK \n",
            "Extracting  CovidDataset/Val/Normal/IM-0288-0001.jpeg                    \b\b\b\b 73%\b\b\b\b\b  OK \n",
            "Extracting  CovidDataset/Val/Normal/IM-0289-0001.jpeg                    \b\b\b\b 74%\b\b\b\b\b  OK \n",
            "Extracting  CovidDataset/Val/Normal/IM-0290-0001.jpeg                    \b\b\b\b 74%\b\b\b\b\b  OK \n",
            "Extracting  CovidDataset/Val/Normal/IM-0291-0001.jpeg                    \b\b\b\b 74%\b\b\b\b\b  OK \n",
            "Extracting  CovidDataset/Val/Normal/IM-0292-0001.jpeg                    \b\b\b\b 75%\b\b\b\b\b  OK \n",
            "Extracting  CovidDataset/Val/Normal/IM-0293-0001.jpeg                    \b\b\b\b 75%\b\b\b\b\b  OK \n",
            "Extracting  CovidDataset/Val/Normal/IM-0294-0001.jpeg                    \b\b\b\b 75%\b\b\b\b\b  OK \n",
            "Extracting  CovidDataset/Val/Normal/IM-0295-0001.jpeg                    \b\b\b\b 76%\b\b\b\b\b  OK \n",
            "Extracting  CovidDataset/Val/Normal/IM-0297-0001.jpeg                    \b\b\b\b 76%\b\b\b\b\b  OK \n",
            "Extracting  CovidDataset/Val/Normal/IM-0298-0001.jpeg                    \b\b\b\b 76%\b\b\b\b\b  OK \n",
            "Extracting  CovidDataset/Val/Normal/IM-0299-0001.jpeg                    \b\b\b\b 77%\b\b\b\b\b  OK \n",
            "Extracting  CovidDataset/Val/Normal/IM-0300-0001.jpeg                    \b\b\b\b 77%\b\b\b\b\b  OK \n",
            "Extracting  CovidDataset/Val/Normal/IM-0301-0001.jpeg                    \b\b\b\b 77%\b\b\b\b\b  OK \n",
            "Extracting  CovidDataset/Val/Normal/IM-0302-0001.jpeg                    \b\b\b\b 78%\b\b\b\b\b  OK \n",
            "Extracting  CovidDataset/Val/Normal/IM-0303-0001.jpeg                    \b\b\b\b 78%\b\b\b\b\b  OK \n",
            "Extracting  CovidDataset/Val/Normal/IM-0304-0001.jpeg                    \b\b\b\b 78%\b\b\b\b\b  OK \n",
            "Extracting  CovidDataset/Val/Normal/IM-0305-0001.jpeg                    \b\b\b\b 79%\b\b\b\b\b  OK \n",
            "Extracting  CovidDataset/Val/Normal/IM-0306-0001.jpeg                    \b\b\b\b 79%\b\b\b\b\b  OK \n",
            "Extracting  CovidDataset/Val/Normal/IM-0307-0001.jpeg                    \b\b\b\b 79%\b\b\b\b\b  OK \n",
            "Extracting  CovidDataset/Val/Normal/IM-0308-0001.jpeg                    \b\b\b\b 80%\b\b\b\b\b  OK \n",
            "Extracting  CovidDataset/Val/Normal/IM-0309-0001.jpeg                    \b\b\b\b 80%\b\b\b\b\b  OK \n",
            "Extracting  CovidDataset/Val/Normal/IM-0311-0001.jpeg                    \b\b\b\b 80%\b\b\b\b\b  OK \n",
            "Extracting  CovidDataset/Val/Normal/IM-0312-0001.jpeg                    \b\b\b\b 81%\b\b\b\b\b  OK \n",
            "Extracting  CovidDataset/Val/Normal/IM-0313-0001.jpeg                    \b\b\b\b 81%\b\b\b\b\b  OK \n",
            "Extracting  CovidDataset/Val/Normal/IM-0314-0001.jpeg                    \b\b\b\b 81%\b\b\b\b\b  OK \n",
            "Extracting  CovidDataset/Val/Normal/IM-0315-0001.jpeg                    \b\b\b\b 81%\b\b\b\b\b  OK \n",
            "Extracting  CovidDataset/Val/Normal/IM-0316-0001.jpeg                    \b\b\b\b 82%\b\b\b\b\b  OK \n",
            "Extracting  CovidDataset/Val/Normal/IM-0317-0001.jpeg                    \b\b\b\b 82%\b\b\b\b\b  OK \n",
            "Extracting  CovidDataset/Val/Normal/IM-0318-0001.jpeg                    \b\b\b\b 82%\b\b\b\b\b  OK \n",
            "Extracting  CovidDataset/Val/Normal/IM-0319-0001.jpeg                    \b\b\b\b 83%\b\b\b\b\b  OK \n",
            "Extracting  CovidDataset/Val/Normal/IM-0320-0001.jpeg                    \b\b\b\b 83%\b\b\b\b\b  OK \n",
            "Extracting  CovidDataset/Val/Normal/IM-0323-0001.jpeg                    \b\b\b\b 83%\b\b\b\b\b  OK \n",
            "Extracting  CovidDataset/Val/Normal/IM-0324-0001.jpeg                    \b\b\b\b 84%\b\b\b\b\b  OK \n",
            "Extracting  CovidDataset/Val/Normal/IM-0325-0001.jpeg                    \b\b\b\b 84%\b\b\b\b\b  OK \n",
            "Extracting  CovidDataset/Val/Normal/IM-0326-0001.jpeg                    \b\b\b\b 84%\b\b\b\b\b  OK \n",
            "Extracting  CovidDataset/Val/Normal/IM-0327-0001.jpeg                    \b\b\b\b 85%\b\b\b\b\b  OK \n",
            "Extracting  CovidDataset/Val/Normal/IM-0329-0001.jpeg                    \b\b\b\b 85%\b\b\b\b\b  OK \n",
            "Extracting  CovidDataset/Val/Normal/IM-0330-0001.jpeg                    \b\b\b\b 85%\b\b\b\b\b  OK \n",
            "Extracting  CovidDataset/Val/Normal/IM-0331-0001.jpeg                    \b\b\b\b 85%\b\b\b\b\b  OK \n",
            "Extracting  CovidDataset/Val/Normal/IM-0332-0001.jpeg                    \b\b\b\b 86%\b\b\b\b\b  OK \n",
            "Extracting  CovidDataset/Val/Normal/IM-0333-0001.jpeg                    \b\b\b\b 86%\b\b\b\b\b  OK \n",
            "Extracting  CovidDataset/Val/Normal/IM-0335-0001.jpeg                    \b\b\b\b 87%\b\b\b\b\b  OK \n",
            "Extracting  CovidDataset/Val/Normal/IM-0337-0001.jpeg                    \b\b\b\b 87%\b\b\b\b\b  OK \n",
            "Extracting  CovidDataset/Val/Normal/IM-0338-0001.jpeg                    \b\b\b\b 87%\b\b\b\b\b  OK \n",
            "Extracting  CovidDataset/Val/Normal/IM-0339-0001.jpeg                    \b\b\b\b 88%\b\b\b\b\b  OK \n",
            "Extracting  CovidDataset/Val/Normal/IM-0340-0001.jpeg                    \b\b\b\b 88%\b\b\b\b\b  OK \n",
            "Extracting  CovidDataset/Val/Normal/IM-0341-0001.jpeg                    \b\b\b\b 88%\b\b\b\b\b  OK \n",
            "Extracting  CovidDataset/Val/Normal/IM-0343-0001.jpeg                    \b\b\b\b 89%\b\b\b\b\b  OK \n",
            "Extracting  CovidDataset/Val/Normal/IM-0345-0001.jpeg                    \b\b\b\b 89%\b\b\b\b\b  OK \n",
            "Extracting  CovidDataset/Val/Normal/IM-0346-0001.jpeg                    \b\b\b\b 89%\b\b\b\b\b  OK \n",
            "Extracting  CovidDataset/Val/Normal/IM-0347-0001.jpeg                    \b\b\b\b 90%\b\b\b\b\b  OK \n",
            "Extracting  CovidDataset/Val/Normal/IM-0348-0001.jpeg                    \b\b\b\b 90%\b\b\b\b\b  OK \n",
            "Extracting  CovidDataset/Val/Normal/IM-0349-0001.jpeg                    \b\b\b\b 90%\b\b\b\b\b  OK \n",
            "Extracting  CovidDataset/Val/Normal/IM-0350-0001.jpeg                    \b\b\b\b 90%\b\b\b\b\b  OK \n",
            "Extracting  CovidDataset/Val/Normal/IM-0351-0001.jpeg                    \b\b\b\b 91%\b\b\b\b\b  OK \n",
            "Extracting  CovidDataset/Val/Normal/IM-0353-0001.jpeg                    \b\b\b\b 91%\b\b\b\b\b  OK \n",
            "Extracting  CovidDataset/Val/Normal/IM-0354-0001.jpeg                    \b\b\b\b 91%\b\b\b\b\b  OK \n",
            "Extracting  CovidDataset/Val/Normal/IM-0355-0001.jpeg                    \b\b\b\b 92%\b\b\b\b\b  OK \n",
            "Extracting  CovidDataset/Val/Normal/IM-0357-0001.jpeg                    \b\b\b\b 92%\b\b\b\b\b  OK \n",
            "Extracting  CovidDataset/Val/Normal/IM-0358-0001.jpeg                    \b\b\b\b 93%\b\b\b\b\b  OK \n",
            "Extracting  CovidDataset/Val/Normal/IM-0369-0001.jpeg                    \b\b\b\b 93%\b\b\b\b\b  OK \n",
            "Extracting  CovidDataset/Val/Normal/IM-0383-0001.jpeg                    \b\b\b\b 93%\b\b\b\b\b  OK \n",
            "Extracting  CovidDataset/Val/Normal/IM-0394-0001.jpeg                    \b\b\b\b 93%\b\b\b\b\b  OK \n",
            "Extracting  CovidDataset/Val/Normal/NORMAL2-IM-1343-0001.jpeg            \b\b\b\b 94%\b\b\b\b\b  OK \n",
            "Extracting  CovidDataset/Val/Normal/NORMAL2-IM-1344-0001.jpeg            \b\b\b\b 94%\b\b\b\b\b  OK \n",
            "Extracting  CovidDataset/Val/Normal/NORMAL2-IM-1345-0001-0001.jpeg       \b\b\b\b 94%\b\b\b\b\b  OK \n",
            "Extracting  CovidDataset/Val/Normal/NORMAL2-IM-1345-0001-0002.jpeg       \b\b\b\b 95%\b\b\b\b\b  OK \n",
            "Extracting  CovidDataset/Val/Normal/NORMAL2-IM-1345-0001.jpeg            \b\b\b\b 95%\b\b\b\b\b  OK \n",
            "Extracting  CovidDataset/Val/Normal/NORMAL2-IM-1346-0001.jpeg            \b\b\b\b 95%\b\b\b\b\b  OK \n",
            "Extracting  CovidDataset/Val/Normal/NORMAL2-IM-1347-0001.jpeg            \b\b\b\b 96%\b\b\b\b\b  OK \n",
            "Extracting  CovidDataset/Val/Normal/NORMAL2-IM-1348-0001.jpeg            \b\b\b\b 96%\b\b\b\b\b  OK \n",
            "Extracting  CovidDataset/Val/Normal/NORMAL2-IM-1349-0001.jpeg            \b\b\b\b 96%\b\b\b\b\b  OK \n",
            "Extracting  CovidDataset/Val/Normal/NORMAL2-IM-1350-0001.jpeg            \b\b\b\b 97%\b\b\b\b\b  OK \n",
            "Extracting  CovidDataset/Val/Normal/NORMAL2-IM-1351-0001.jpeg            \b\b\b\b 97%\b\b\b\b\b  OK \n",
            "Extracting  CovidDataset/Val/Normal/NORMAL2-IM-1356-0001.jpeg            \b\b\b\b 97%\b\b\b\b\b  OK \n",
            "Extracting  CovidDataset/Val/Normal/NORMAL2-IM-1357-0001.jpeg            \b\b\b\b 97%\b\b\b\b\b  OK \n",
            "Extracting  CovidDataset/Val/Normal/NORMAL2-IM-1360-0001.jpeg            \b\b\b\b 98%\b\b\b\b\b  OK \n",
            "Extracting  CovidDataset/Val/Normal/NORMAL2-IM-1362-0001.jpeg            \b\b\b\b 98%\b\b\b\b\b  OK \n",
            "Extracting  CovidDataset/Val/Normal/NORMAL2-IM-1365-0001.jpeg            \b\b\b\b 98%\b\b\b\b\b  OK \n",
            "Extracting  CovidDataset/Val/Normal/NORMAL2-IM-1371-0001.jpeg            \b\b\b\b 98%\b\b\b\b\b  OK \n",
            "Extracting  CovidDataset/Val/Normal/NORMAL2-IM-1376-0001.jpeg            \b\b\b\b 98%\b\b\b\b\b  OK \n",
            "Extracting  CovidDataset/Val/Normal/NORMAL2-IM-1379-0001.jpeg            \b\b\b\b 98%\b\b\b\b\b  OK \n",
            "Extracting  CovidDataset/Val/Normal/NORMAL2-IM-1385-0001.jpeg            \b\b\b\b 98%\b\b\b\b\b  OK \n",
            "Extracting  CovidDataset/Val/Normal/NORMAL2-IM-1396-0001.jpeg            \b\b\b\b 98%\b\b\b\b\b  OK \n",
            "Extracting  CovidDataset/Val/Normal/NORMAL2-IM-1400-0001.jpeg            \b\b\b\b 99%\b\b\b\b\b  OK \n",
            "Extracting  CovidDataset/Val/Normal/NORMAL2-IM-1401-0001.jpeg            \b\b\b\b 99%\b\b\b\b\b  OK \n",
            "Extracting  CovidDataset/Val/Normal/NORMAL2-IM-1406-0001.jpeg            \b\b\b\b 99%\b\b\b\b\b  OK \n",
            "Extracting  CovidDataset/Val/Normal/NORMAL2-IM-1412-0001.jpeg            \b\b\b\b 99%\b\b\b\b\b  OK \n",
            "Extracting  CovidDataset/Val/Normal/NORMAL2-IM-1419-0001.jpeg            \b\b\b\b 99%\b\b\b\b\b  OK \n",
            "Extracting  CovidDataset/Val/Normal/NORMAL2-IM-1422-0001.jpeg            \b\b\b\b 99%\b\b\b\b\b  OK \n",
            "Extracting  CovidDataset/Val/Normal/NORMAL2-IM-1423-0001.jpeg            \b\b\b\b 99%\b\b\b\b\b  OK \n",
            "All OK\n"
          ],
          "name": "stdout"
        }
      ]
    },
    {
      "cell_type": "code",
      "metadata": {
        "id": "qBAmxfdITNgj"
      },
      "source": [
        "TRAIN_PATH = \"CovidDataset/Train\"\n",
        "VAL_PATH = \"CovidDataset/Test\""
      ],
      "execution_count": 5,
      "outputs": []
    },
    {
      "cell_type": "code",
      "metadata": {
        "id": "SMuzxJlHTSsE"
      },
      "source": [
        "import numpy as np\n",
        "import matplotlib.pyplot as plt\n",
        "import keras\n",
        "from keras.layers import *\n",
        "from keras.models import * \n",
        "from keras.preprocessing import image\n"
      ],
      "execution_count": 6,
      "outputs": []
    },
    {
      "cell_type": "code",
      "metadata": {
        "id": "WQFQTTHgTV_P"
      },
      "source": [
        "\n",
        "\n",
        "model = Sequential()\n",
        "model.add(Conv2D(32,kernel_size=(3,3),activation='relu',input_shape=(224,224,3)))\n",
        "model.add(Conv2D(64,(3,3),activation='relu'))\n",
        "model.add(MaxPooling2D(pool_size=(2,2)))\n",
        "model.add(Dropout(0.25))\n",
        "\n",
        "model.add(Conv2D(64,(3,3),activation='relu'))\n",
        "model.add(MaxPooling2D(pool_size=(2,2)))\n",
        "model.add(Dropout(0.25))\n",
        "\n",
        "model.add(Conv2D(128,(3,3),activation='relu'))\n",
        "model.add(MaxPooling2D(pool_size=(2,2)))\n",
        "model.add(Dropout(0.25))\n",
        "\n",
        "model.add(Flatten())\n",
        "model.add(Dense(64,activation='relu'))\n",
        "model.add(Dropout(0.5))\n",
        "model.add(Dense(1,activation='sigmoid'))\n",
        "\n",
        "model.compile(loss=keras.losses.binary_crossentropy,optimizer='adam',metrics=['accuracy'])"
      ],
      "execution_count": 7,
      "outputs": []
    },
    {
      "cell_type": "code",
      "metadata": {
        "colab": {
          "base_uri": "https://localhost:8080/"
        },
        "id": "nGTct31BTY97",
        "outputId": "bc7f20d9-e244-4e02-9626-a2fdbda15041"
      },
      "source": [
        "model.summary()"
      ],
      "execution_count": 8,
      "outputs": [
        {
          "output_type": "stream",
          "text": [
            "Model: \"sequential\"\n",
            "_________________________________________________________________\n",
            "Layer (type)                 Output Shape              Param #   \n",
            "=================================================================\n",
            "conv2d (Conv2D)              (None, 222, 222, 32)      896       \n",
            "_________________________________________________________________\n",
            "conv2d_1 (Conv2D)            (None, 220, 220, 64)      18496     \n",
            "_________________________________________________________________\n",
            "max_pooling2d (MaxPooling2D) (None, 110, 110, 64)      0         \n",
            "_________________________________________________________________\n",
            "dropout (Dropout)            (None, 110, 110, 64)      0         \n",
            "_________________________________________________________________\n",
            "conv2d_2 (Conv2D)            (None, 108, 108, 64)      36928     \n",
            "_________________________________________________________________\n",
            "max_pooling2d_1 (MaxPooling2 (None, 54, 54, 64)        0         \n",
            "_________________________________________________________________\n",
            "dropout_1 (Dropout)          (None, 54, 54, 64)        0         \n",
            "_________________________________________________________________\n",
            "conv2d_3 (Conv2D)            (None, 52, 52, 128)       73856     \n",
            "_________________________________________________________________\n",
            "max_pooling2d_2 (MaxPooling2 (None, 26, 26, 128)       0         \n",
            "_________________________________________________________________\n",
            "dropout_2 (Dropout)          (None, 26, 26, 128)       0         \n",
            "_________________________________________________________________\n",
            "flatten (Flatten)            (None, 86528)             0         \n",
            "_________________________________________________________________\n",
            "dense (Dense)                (None, 64)                5537856   \n",
            "_________________________________________________________________\n",
            "dropout_3 (Dropout)          (None, 64)                0         \n",
            "_________________________________________________________________\n",
            "dense_1 (Dense)              (None, 1)                 65        \n",
            "=================================================================\n",
            "Total params: 5,668,097\n",
            "Trainable params: 5,668,097\n",
            "Non-trainable params: 0\n",
            "_________________________________________________________________\n"
          ],
          "name": "stdout"
        }
      ]
    },
    {
      "cell_type": "code",
      "metadata": {
        "id": "DB0VS_wwTdqx"
      },
      "source": [
        "# Train\n",
        "train_datagen = image.ImageDataGenerator(\n",
        "    rescale = 1./255,\n",
        "    shear_range = 0.2,\n",
        "    zoom_range = 0.2,\n",
        "    horizontal_flip = True,\n",
        ")\n",
        "\n",
        "test_dataset = image.ImageDataGenerator(rescale=1./255)"
      ],
      "execution_count": 9,
      "outputs": []
    },
    {
      "cell_type": "code",
      "metadata": {
        "colab": {
          "base_uri": "https://localhost:8080/"
        },
        "id": "OgmEWjbTTgkA",
        "outputId": "78556f9f-72ff-44eb-cdd4-fc46b05cb09b"
      },
      "source": [
        "train_generator = train_datagen.flow_from_directory(\n",
        "    'CovidDataset/Train',\n",
        "    target_size = (224,224),\n",
        "    batch_size = 32,\n",
        "    class_mode = 'binary')"
      ],
      "execution_count": 10,
      "outputs": [
        {
          "output_type": "stream",
          "text": [
            "Found 192 images belonging to 2 classes.\n"
          ],
          "name": "stdout"
        }
      ]
    },
    {
      "cell_type": "code",
      "metadata": {
        "colab": {
          "base_uri": "https://localhost:8080/"
        },
        "id": "dBJ1EXutTkCb",
        "outputId": "0969a05d-a541-49a7-e7a1-cb7095177dbf"
      },
      "source": [
        "train_generator.class_indices"
      ],
      "execution_count": 11,
      "outputs": [
        {
          "output_type": "execute_result",
          "data": {
            "text/plain": [
              "{'Covid': 0, 'Normal': 1}"
            ]
          },
          "metadata": {
            "tags": []
          },
          "execution_count": 11
        }
      ]
    },
    {
      "cell_type": "code",
      "metadata": {
        "colab": {
          "base_uri": "https://localhost:8080/"
        },
        "id": "agrsWc27TmyN",
        "outputId": "2ac3087f-0053-4c64-e0d5-c21da4cb4c97"
      },
      "source": [
        "validation_generator = test_dataset.flow_from_directory(\n",
        "    'CovidDataset/Val',\n",
        "    target_size = (224,224),\n",
        "    batch_size = 32,\n",
        "    class_mode = 'binary')"
      ],
      "execution_count": 12,
      "outputs": [
        {
          "output_type": "stream",
          "text": [
            "Found 192 images belonging to 2 classes.\n"
          ],
          "name": "stdout"
        }
      ]
    },
    {
      "cell_type": "code",
      "metadata": {
        "colab": {
          "base_uri": "https://localhost:8080/"
        },
        "id": "2qXA_EdOTqmA",
        "outputId": "a140b4cd-6a4d-4a04-e7d2-93e97a91c121"
      },
      "source": [
        "hist = model.fit_generator(\n",
        "    train_generator,\n",
        "    steps_per_epoch=6,\n",
        "    epochs = 10,\n",
        "    validation_data = validation_generator,\n",
        "    validation_steps=2\n",
        ")"
      ],
      "execution_count": 13,
      "outputs": [
        {
          "output_type": "stream",
          "text": [
            "WARNING:tensorflow:From <ipython-input-13-e660bfd9e6ac>:6: Model.fit_generator (from tensorflow.python.keras.engine.training) is deprecated and will be removed in a future version.\n",
            "Instructions for updating:\n",
            "Please use Model.fit, which supports generators.\n",
            "Epoch 1/10\n",
            "6/6 [==============================] - 52s 9s/step - loss: 0.7359 - accuracy: 0.5781 - val_loss: 0.6783 - val_accuracy: 0.4688\n",
            "Epoch 2/10\n",
            "6/6 [==============================] - 50s 8s/step - loss: 0.5554 - accuracy: 0.7708 - val_loss: 0.4625 - val_accuracy: 0.9062\n",
            "Epoch 3/10\n",
            "6/6 [==============================] - 51s 8s/step - loss: 0.3739 - accuracy: 0.8542 - val_loss: 0.3282 - val_accuracy: 0.9688\n",
            "Epoch 4/10\n",
            "6/6 [==============================] - 51s 8s/step - loss: 0.2785 - accuracy: 0.8802 - val_loss: 0.3852 - val_accuracy: 0.9375\n",
            "Epoch 5/10\n",
            "6/6 [==============================] - 51s 8s/step - loss: 0.2084 - accuracy: 0.9271 - val_loss: 0.1157 - val_accuracy: 0.9531\n",
            "Epoch 6/10\n",
            "6/6 [==============================] - 51s 8s/step - loss: 0.1750 - accuracy: 0.9427 - val_loss: 0.3173 - val_accuracy: 0.9844\n",
            "Epoch 7/10\n",
            "6/6 [==============================] - 50s 8s/step - loss: 0.1230 - accuracy: 0.9740 - val_loss: 0.4800 - val_accuracy: 0.8125\n",
            "Epoch 8/10\n",
            "6/6 [==============================] - 51s 8s/step - loss: 0.2361 - accuracy: 0.9167 - val_loss: 0.2316 - val_accuracy: 0.9688\n",
            "Epoch 9/10\n",
            "6/6 [==============================] - 55s 9s/step - loss: 0.2475 - accuracy: 0.9010 - val_loss: 0.1641 - val_accuracy: 0.9531\n",
            "Epoch 10/10\n",
            "6/6 [==============================] - 51s 8s/step - loss: 0.2121 - accuracy: 0.9271 - val_loss: 0.1867 - val_accuracy: 0.9375\n"
          ],
          "name": "stdout"
        }
      ]
    },
    {
      "cell_type": "code",
      "metadata": {
        "colab": {
          "base_uri": "https://localhost:8080/",
          "height": 1000
        },
        "id": "VUkZmmhiV0u3",
        "outputId": "13b7729e-c72f-41f4-9d8d-446e3db289b1"
      },
      "source": [
        "from tensorflow.keras.utils import plot_model\n",
        "plot_model(model)"
      ],
      "execution_count": 14,
      "outputs": [
        {
          "output_type": "execute_result",
          "data": {
            "image/png": "[encoded data removed]",
            "text/plain": [
              "<IPython.core.display.Image object>"
            ]
          },
          "metadata": {
            "tags": []
          },
          "execution_count": 14
        }
      ]
    },
    {
      "cell_type": "code",
      "metadata": {
        "colab": {
          "base_uri": "https://localhost:8080/",
          "height": 475
        },
        "id": "QQ_7uXOiV5S4",
        "outputId": "8c11a133-0717-4501-83dd-b47c1932fe57"
      },
      "source": [
        "plt.figure(figsize = (13,7))\n",
        "plt.plot(hist.history[\"accuracy\"])\n",
        "plt.plot(hist.history[\"val_accuracy\"])\n",
        "plt.title(\"Model Accuracy\")\n",
        "plt.ylabel(\"Accuracy\")\n",
        "plt.xlabel(\"Epoch\")\n",
        "plt.legend([\"Train\", \"Test\"], loc = \"upper left\")"
      ],
      "execution_count": 15,
      "outputs": [
        {
          "output_type": "execute_result",
          "data": {
            "text/plain": [
              "<matplotlib.legend.Legend at 0x7f95d3f48c18>"
            ]
          },
          "metadata": {
            "tags": []
          },
          "execution_count": 15
        },
        {
          "output_type": "display_data",
          "data": {
            "image/png": "[encoded data removed]",
            "text/plain": [
              "<Figure size 936x504 with 1 Axes>"
            ]
          },
          "metadata": {
            "tags": [],
            "needs_background": "light"
          }
        }
      ]
    },
    {
      "cell_type": "code",
      "metadata": {
        "colab": {
          "base_uri": "https://localhost:8080/",
          "height": 475
        },
        "id": "Hz0UFSb9V---",
        "outputId": "bdd4d828-ad47-4bf4-d191-964273090a8f"
      },
      "source": [
        "plt.figure(figsize = (13,7))\n",
        "plt.plot(hist.history[\"loss\"])\n",
        "plt.plot(hist.history[\"val_loss\"])\n",
        "plt.title(\"Model Loss\")\n",
        "plt.ylabel(\"Loss\")\n",
        "plt.xlabel(\"Epoch\")\n",
        "plt.legend([\"Train\", \"Test\"], loc = \"upper left\")"
      ],
      "execution_count": 16,
      "outputs": [
        {
          "output_type": "execute_result",
          "data": {
            "text/plain": [
              "<matplotlib.legend.Legend at 0x7f95d5001940>"
            ]
          },
          "metadata": {
            "tags": []
          },
          "execution_count": 16
        },
        {
          "output_type": "display_data",
          "data": {
            "image/png": "[encoded data removed]",
            "text/plain": [
              "<Figure size 936x504 with 1 Axes>"
            ]
          },
          "metadata": {
            "tags": [],
            "needs_background": "light"
          }
        }
      ]
    },
    {
      "cell_type": "code",
      "metadata": {
        "colab": {
          "base_uri": "https://localhost:8080/"
        },
        "id": "N6gI_BxIWE0E",
        "outputId": "85b0de6c-0b86-4aa0-fe17-73eaf485f1f3"
      },
      "source": [
        "model.evaluate_generator(train_generator)"
      ],
      "execution_count": 17,
      "outputs": [
        {
          "output_type": "stream",
          "text": [
            "WARNING:tensorflow:From <ipython-input-17-e4ade065aa26>:1: Model.evaluate_generator (from tensorflow.python.keras.engine.training) is deprecated and will be removed in a future version.\n",
            "Instructions for updating:\n",
            "Please use Model.evaluate, which supports generators.\n"
          ],
          "name": "stdout"
        },
        {
          "output_type": "execute_result",
          "data": {
            "text/plain": [
              "[0.12596319615840912, 0.984375]"
            ]
          },
          "metadata": {
            "tags": []
          },
          "execution_count": 17
        }
      ]
    },
    {
      "cell_type": "code",
      "metadata": {
        "colab": {
          "base_uri": "https://localhost:8080/"
        },
        "id": "aiJ_jf-vWMoz",
        "outputId": "42699b4e-1d0d-4db5-e5c3-e941ba4a7781"
      },
      "source": [
        "model.evaluate_generator(validation_generator)"
      ],
      "execution_count": 18,
      "outputs": [
        {
          "output_type": "execute_result",
          "data": {
            "text/plain": [
              "[0.16214056313037872, 0.9479166865348816]"
            ]
          },
          "metadata": {
            "tags": []
          },
          "execution_count": 18
        }
      ]
    },
    {
      "cell_type": "code",
      "metadata": {
        "id": "u_wIiGO6WTtA"
      },
      "source": [
        "model.save(\"model_adv.h5\")"
      ],
      "execution_count": 19,
      "outputs": []
    },
    {
      "cell_type": "code",
      "metadata": {
        "id": "AdmrSjY4WY-X"
      },
      "source": [
        "model = load_model('model_adv.h5')  # model_adv.h5"
      ],
      "execution_count": 20,
      "outputs": []
    },
    {
      "cell_type": "code",
      "metadata": {
        "id": "Ts9YETuGWc1A"
      },
      "source": [
        "import os"
      ],
      "execution_count": 21,
      "outputs": []
    },
    {
      "cell_type": "code",
      "metadata": {
        "id": "f9hhXSXHWfk_"
      },
      "source": [
        "y_test= []\n",
        "y_actual= []"
      ],
      "execution_count": 22,
      "outputs": []
    },
    {
      "cell_type": "code",
      "metadata": {
        "id": "jftTjsGkW-NR"
      },
      "source": [
        "for i in os.listdir(\"./CovidDataset/Val/Normal/\"):\n",
        "  img = image.load_img(\"./CovidDataset/Val/Normal/\"+i, target_size=(224,224))\n",
        "  img= image.img_to_array(img)\n",
        "  img = np.expand_dims(img, axis = 0)\n",
        "  p = int(model.predict(img) > 0.5) \n",
        "  y_test.append(p)                           \n",
        "  y_actual.append(1)"
      ],
      "execution_count": 23,
      "outputs": []
    },
    {
      "cell_type": "code",
      "metadata": {
        "id": "0TghuFVfXCuf"
      },
      "source": [
        "for i in os.listdir(\"./CovidDataset/Val/Covid/\"):\n",
        "  img = image.load_img(\"./CovidDataset/Val/Covid/\"+i, target_size=(224,224))\n",
        "  img= image.img_to_array(img)\n",
        "  img = np.expand_dims(img, axis = 0)\n",
        "  p = int(model.predict(img) > 0.5)   \n",
        "  y_test.append(p)             \n",
        "  y_actual.append(0)"
      ],
      "execution_count": 24,
      "outputs": []
    },
    {
      "cell_type": "code",
      "metadata": {
        "id": "olaUtPWmXH5W"
      },
      "source": [
        "y_actual = np.array(y_actual)\n",
        "y_test = np.array(y_test)"
      ],
      "execution_count": 25,
      "outputs": []
    },
    {
      "cell_type": "code",
      "metadata": {
        "id": "i57JisjGWmh-"
      },
      "source": [
        "from sklearn.metrics import confusion_matrix"
      ],
      "execution_count": 26,
      "outputs": []
    },
    {
      "cell_type": "code",
      "metadata": {
        "id": "WLRIjZQaWtFB"
      },
      "source": [
        "cm = confusion_matrix(y_actual ,y_test)"
      ],
      "execution_count": 27,
      "outputs": []
    },
    {
      "cell_type": "code",
      "metadata": {
        "id": "bPd4AmDRWv2G"
      },
      "source": [
        "import seaborn as sns "
      ],
      "execution_count": 28,
      "outputs": []
    },
    {
      "cell_type": "code",
      "metadata": {
        "colab": {
          "base_uri": "https://localhost:8080/",
          "height": 282
        },
        "id": "GlWUu8zJXT6B",
        "outputId": "da54c677-dd84-418d-ad08-b3655a5db298"
      },
      "source": [
        "sns.heatmap(cm, cmap=\"plasma\", annot=True)"
      ],
      "execution_count": 29,
      "outputs": [
        {
          "output_type": "execute_result",
          "data": {
            "text/plain": [
              "<matplotlib.axes._subplots.AxesSubplot at 0x7f95d36e6048>"
            ]
          },
          "metadata": {
            "tags": []
          },
          "execution_count": 29
        },
        {
          "output_type": "display_data",
          "data": {
            "image/png": "[encoded data removed]",
            "text/plain": [
              "<Figure size 432x288 with 2 Axes>"
            ]
          },
          "metadata": {
            "tags": [],
            "needs_background": "light"
          }
        }
      ]
    },
    {
      "cell_type": "code",
      "metadata": {
        "colab": {
          "base_uri": "https://localhost:8080/",
          "height": 404
        },
        "id": "yDUUzrFNW04Q",
        "outputId": "e1e244b5-2a15-4909-f52b-f269297edf26"
      },
      "source": [
        "f, ax = plt.subplots(figsize = (6,6))\n",
        "sns.heatmap(cm,annot = True, linewidths = 0.3,cmap = \"Blues\",annot_kws = {\"size\": 18}, linecolor = \"black\", fmt = \".0f\", ax=ax )\n",
        "plt.xlabel(\"Prediction\")\n",
        "plt.title(\"Confusion Matrix\")\n",
        "plt.ylabel(\"True\")\n",
        "plt.show()"
      ],
      "execution_count": 30,
      "outputs": [
        {
          "output_type": "display_data",
          "data": {
            "image/png": "[encoded data removed]",
            "text/plain": [
              "<Figure size 432x432 with 2 Axes>"
            ]
          },
          "metadata": {
            "tags": [],
            "needs_background": "light"
          }
        }
      ]
    },
    {
      "cell_type": "code",
      "metadata": {
        "id": "QAymebZqac3O"
      },
      "source": [
        "from sklearn.metrics import classification_report"
      ],
      "execution_count": 31,
      "outputs": []
    },
    {
      "cell_type": "code",
      "metadata": {
        "colab": {
          "base_uri": "https://localhost:8080/"
        },
        "id": "RGqci_9taOoM",
        "outputId": "73e1bab0-9b37-4484-b6ee-7dc8c8fcaddd"
      },
      "source": [
        "report = classification_report(y_actual, y_test)\n",
        "print(report)"
      ],
      "execution_count": 32,
      "outputs": [
        {
          "output_type": "stream",
          "text": [
            "              precision    recall  f1-score   support\n",
            "\n",
            "           0       0.99      0.93      0.96        96\n",
            "           1       0.93      0.99      0.96        96\n",
            "\n",
            "    accuracy                           0.96       192\n",
            "   macro avg       0.96      0.96      0.96       192\n",
            "weighted avg       0.96      0.96      0.96       192\n",
            "\n"
          ],
          "name": "stdout"
        }
      ]
    },
    {
      "cell_type": "code",
      "metadata": {
        "colab": {
          "base_uri": "https://localhost:8080/"
        },
        "id": "gV-407ymsQaB",
        "outputId": "8d631a67-5206-46a9-98ac-8b706ee5fb2a"
      },
      "source": [
        "anti=input('Input Antigen test result: ')"
      ],
      "execution_count": 64,
      "outputs": [
        {
          "output_type": "stream",
          "text": [
            "Input Antigen test result: N\n"
          ],
          "name": "stdout"
        }
      ]
    },
    {
      "cell_type": "code",
      "metadata": {
        "colab": {
          "resources": {
            "http://localhost:8080/nbextensions/google.colab/files.js": {
              "data": "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",
              "ok": true,
              "headers": [
                [
                  "content-type",
                  "application/javascript"
                ]
              ],
              "status": 200,
              "status_text": ""
            }
          },
          "base_uri": "https://localhost:8080/",
          "height": 73
        },
        "id": "edU780EZlXa4",
        "outputId": "9e00bd7c-4777-4c77-de3e-fa4bebd5a796"
      },
      "source": [
        "from google.colab import files\n",
        "uploaded = files.upload()"
      ],
      "execution_count": 55,
      "outputs": [
        {
          "output_type": "display_data",
          "data": {
            "text/html": [
              "\n",
              "     <input type=\"file\" id=\"files-e5d69e96-18aa-4439-8803-db03d8c22181\" name=\"files[]\" multiple disabled\n",
              "        style=\"border:none\" />\n",
              "     <output id=\"result-e5d69e96-18aa-4439-8803-db03d8c22181\">\n",
              "      Upload widget is only available when the cell has been executed in the\n",
              "      current browser session. Please rerun this cell to enable.\n",
              "      </output>\n",
              "      <script src=\"/nbextensions/google.colab/files.js\"></script> "
            ],
            "text/plain": [
              "<IPython.core.display.HTML object>"
            ]
          },
          "metadata": {
            "tags": []
          }
        },
        {
          "output_type": "stream",
          "text": [
            "Saving covidimage.jpg to covidimage (1).jpg\n"
          ],
          "name": "stdout"
        }
      ]
    },
    {
      "cell_type": "code",
      "metadata": {
        "colab": {
          "base_uri": "https://localhost:8080/"
        },
        "id": "t9Zxi4zalu6v",
        "outputId": "e7b7b569-584d-4163-9e1e-91bb22340ebc"
      },
      "source": [
        "import cv2\n",
        "#img = cv2.imread('covidimage.jpg')\n",
        "img = image.load_img('covidimage.jpg', target_size=(224, 224))\n",
        "x = image.img_to_array(img)\n",
        "x = np.expand_dims(x, axis=0)\n",
        "\n",
        "images = np.vstack([x])\n",
        "classes = model.predict_classes(images, batch_size=10)\n",
        "print(classes)\n"
      ],
      "execution_count": 58,
      "outputs": [
        {
          "output_type": "stream",
          "text": [
            "[[0]]\n"
          ],
          "name": "stdout"
        }
      ]
    },
    {
      "cell_type": "code",
      "metadata": {
        "id": "u1c4-6EmmGNE"
      },
      "source": [
        "if classes[0][0] == 1:\n",
        "    predictn = 'normal'\n",
        "else:\n",
        "    predictn = 'covid'"
      ],
      "execution_count": 59,
      "outputs": []
    },
    {
      "cell_type": "code",
      "metadata": {
        "colab": {
          "base_uri": "https://localhost:8080/",
          "height": 35
        },
        "id": "0scyclzwpsXa",
        "outputId": "45ef91f4-2563-4a52-d795-4927af78df40"
      },
      "source": [
        "predictn"
      ],
      "execution_count": 60,
      "outputs": [
        {
          "output_type": "execute_result",
          "data": {
            "application/vnd.google.colaboratory.intrinsic+json": {
              "type": "string"
            },
            "text/plain": [
              "'covid'"
            ]
          },
          "metadata": {
            "tags": []
          },
          "execution_count": 60
        }
      ]
    },
    {
      "cell_type": "code",
      "metadata": {
        "colab": {
          "base_uri": "https://localhost:8080/"
        },
        "id": "B6I4nCVJpuFf",
        "outputId": "3e8d7914-cc55-474a-da79-974a28bb7ef2"
      },
      "source": [
        "if anti=='N' and predictn=='covid':\n",
        "  print('Category: Suspicious \\nQuarantine yourself for a week more.')\n",
        "else:\n",
        "  print('Our result matches Antigen.')"
      ],
      "execution_count": 66,
      "outputs": [
        {
          "output_type": "stream",
          "text": [
            "Category: Suspicious \n",
            "Quarantine yourself for a week more.\n"
          ],
          "name": "stdout"
        }
      ]
    },
    {
      "cell_type": "code",
      "metadata": {
        "id": "4agw4-tZtLPD"
      },
      "source": [
        ""
      ],
      "execution_count": null,
      "outputs": []
    }
  ]
}