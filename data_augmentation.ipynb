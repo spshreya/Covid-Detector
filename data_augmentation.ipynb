{
  "nbformat": 4,
  "nbformat_minor": 0,
  "metadata": {
    "colab": {
      "name": "data_augmentation.ipynb",
      "provenance": [],
      "authorship_tag": "ABX9TyNHR5hwQINR8nhsh4WOJvb0",
      "include_colab_link": true
    },
    "kernelspec": {
      "name": "python3",
      "display_name": "Python 3"
    }
  },
  "cells": [
    {
      "cell_type": "markdown",
      "metadata": {
        "id": "view-in-github",
        "colab_type": "text"
      },
      "source": [
        "<a href=\"https://colab.research.google.com/github/spshreya/Covid-Detector/blob/main/data_augmentation.ipynb\" target=\"_parent\"><img src=\"https://colab.research.google.com/assets/colab-badge.svg\" alt=\"Open In Colab\"/></a>"
      ]
    },
    {
      "cell_type": "code",
      "metadata": {
        "colab": {
          "base_uri": "https://localhost:8080/"
        },
        "id": "cmvs-kgDNOQn",
        "outputId": "eb0b79ad-56dd-4ce0-dff3-0fe8784ee94f"
      },
      "source": [
        "!wget https://www.dropbox.com/s/vynypakezgqkchf/CovidDataset.rar?dl=0"
      ],
      "execution_count": 1,
      "outputs": [
        {
          "output_type": "stream",
          "text": [
            "--2020-12-07 16:07:44--  https://www.dropbox.com/s/vynypakezgqkchf/CovidDataset.rar?dl=0\n",
            "Resolving www.dropbox.com (www.dropbox.com)... 162.125.82.1, 2620:100:6032:1::a27d:5201\n",
            "Connecting to www.dropbox.com (www.dropbox.com)|162.125.82.1|:443... connected.\n",
            "HTTP request sent, awaiting response... 301 Moved Permanently\n",
            "Location: /s/raw/vynypakezgqkchf/CovidDataset.rar [following]\n",
            "--2020-12-07 16:07:44--  https://www.dropbox.com/s/raw/vynypakezgqkchf/CovidDataset.rar\n",
            "Reusing existing connection to www.dropbox.com:443.\n",
            "HTTP request sent, awaiting response... 302 Found\n",
            "Location: https://uc24f87ace01c33f6198fa3554bc.dl.dropboxusercontent.com/cd/0/inline/BEpyrWmo8aVQv9tWVuFtIpc97Vx55PQXB1BU3PKDhyqOo_5iyx84iDxsyMONqkFcYgkywItzIhl-F1F7FlpriztFT8DgwHzQ-6QCIyb_vtgb_b2gaBqSh9t3eI80W-3XUaU/file# [following]\n",
            "--2020-12-07 16:07:44--  https://uc24f87ace01c33f6198fa3554bc.dl.dropboxusercontent.com/cd/0/inline/BEpyrWmo8aVQv9tWVuFtIpc97Vx55PQXB1BU3PKDhyqOo_5iyx84iDxsyMONqkFcYgkywItzIhl-F1F7FlpriztFT8DgwHzQ-6QCIyb_vtgb_b2gaBqSh9t3eI80W-3XUaU/file\n",
            "Resolving uc24f87ace01c33f6198fa3554bc.dl.dropboxusercontent.com (uc24f87ace01c33f6198fa3554bc.dl.dropboxusercontent.com)... 162.125.82.15, 2620:100:6032:15::a27d:520f\n",
            "Connecting to uc24f87ace01c33f6198fa3554bc.dl.dropboxusercontent.com (uc24f87ace01c33f6198fa3554bc.dl.dropboxusercontent.com)|162.125.82.15|:443... connected.\n",
            "HTTP request sent, awaiting response... 302 Found\n",
            "Location: /cd/0/inline2/BEprzQtxOBSw-DFu--RN_tMe1LePKQIqIXr-MpQ5pVqG6ytH8AXQZJBixSQbT2uu2cOEwuplEd1db-zNxqSibGn3EpDWiuWtmZGpAV_NwYtC4W04DUyEQK-aj8QweNYiq3KBDdvLkRRR--k4Ll33Or16mFOsa2-07ahoZ0oQJpOrxtlXdBGuDWT6m2Vs294JqpqaVEsvqmSTYS28i-hPZjODY87S9lEf_p_adw3xRjgEfaxf7Wa2s7l6aSG7gL5ENT9LEX6QSTWAFm3tL83ft4RvroDdQT1Ic8pmYjQdiPFpCmfN7u3vRRoxX3cCnwcQgSX1EcPnF1Q4ldtAb3opLSPdQ0a9yqOJ6rRO7rgyVSenTQ/file [following]\n",
            "--2020-12-07 16:07:45--  https://uc24f87ace01c33f6198fa3554bc.dl.dropboxusercontent.com/cd/0/inline2/BEprzQtxOBSw-DFu--RN_tMe1LePKQIqIXr-MpQ5pVqG6ytH8AXQZJBixSQbT2uu2cOEwuplEd1db-zNxqSibGn3EpDWiuWtmZGpAV_NwYtC4W04DUyEQK-aj8QweNYiq3KBDdvLkRRR--k4Ll33Or16mFOsa2-07ahoZ0oQJpOrxtlXdBGuDWT6m2Vs294JqpqaVEsvqmSTYS28i-hPZjODY87S9lEf_p_adw3xRjgEfaxf7Wa2s7l6aSG7gL5ENT9LEX6QSTWAFm3tL83ft4RvroDdQT1Ic8pmYjQdiPFpCmfN7u3vRRoxX3cCnwcQgSX1EcPnF1Q4ldtAb3opLSPdQ0a9yqOJ6rRO7rgyVSenTQ/file\n",
            "Reusing existing connection to uc24f87ace01c33f6198fa3554bc.dl.dropboxusercontent.com:443.\n",
            "HTTP request sent, awaiting response... 200 OK\n",
            "Length: 169385376 (162M) [application/rar]\n",
            "Saving to: ‘CovidDataset.rar?dl=0.1’\n",
            "\n",
            "CovidDataset.rar?dl 100%[===================>] 161.54M  16.6MB/s    in 11s     \n",
            "\n",
            "2020-12-07 16:07:57 (14.2 MB/s) - ‘CovidDataset.rar?dl=0.1’ saved [169385376/169385376]\n",
            "\n"
          ],
          "name": "stdout"
        }
      ]
    },
    {
      "cell_type": "code",
      "metadata": {
        "colab": {
          "base_uri": "https://localhost:8080/"
        },
        "id": "TYqRLRN0NPTC",
        "outputId": "18be097a-2bd9-41c8-f958-79f19c0c17ee"
      },
      "source": [
        "!pip install unrar"
      ],
      "execution_count": 2,
      "outputs": [
        {
          "output_type": "stream",
          "text": [
            "Requirement already satisfied: unrar in /usr/local/lib/python3.6/dist-packages (0.4)\n"
          ],
          "name": "stdout"
        }
      ]
    },
    {
      "cell_type": "code",
      "metadata": {
        "colab": {
          "base_uri": "https://localhost:8080/"
        },
        "id": "bbZWvvI5NiDi",
        "outputId": "ec62fd09-6a71-494d-c8fd-2f93c1595500"
      },
      "source": [
        "!unrar x CovidDataset.rar\\?dl\\=0"
      ],
      "execution_count": 3,
      "outputs": [
        {
          "output_type": "stream",
          "text": [
            "\n",
            "UNRAR 5.50 freeware      Copyright (c) 1993-2017 Alexander Roshal\n",
            "\n",
            "\n",
            "Extracting from CovidDataset.rar?dl=0\n",
            "\n",
            "\n",
            "Would you like to replace the existing file CovidDataset/Train/Covid/01E392EE-69F9-4E33-BFCE-E5C968654078.jpeg\n",
            "367441 bytes, modified on 2020-10-12 17:46\n",
            "with a new one\n",
            "367441 bytes, modified on 2020-10-12 17:46\n",
            "\n",
            "[Y]es, [N]o, [A]ll, n[E]ver, [R]ename, [Q]uit Y\n",
            "\n",
            "Extracting  CovidDataset/Train/Covid/01E392EE-69F9-4E33-BFCE-E5C968654078.jpeg     \b\b\b\b  0%\b\b\b\b\b  OK \n",
            "\n",
            "Would you like to replace the existing file CovidDataset/Train/Covid/03BF7561-A9BA-4C3C-B8A0-D3E585F73F3C.jpeg\n",
            "312368 bytes, modified on 2020-10-12 17:46\n",
            "with a new one\n",
            "312368 bytes, modified on 2020-10-12 17:46\n",
            "\n",
            "[Y]es, [N]o, [A]ll, n[E]ver, [R]ename, [Q]uit A\n",
            "\n",
            "Extracting  CovidDataset/Train/Covid/03BF7561-A9BA-4C3C-B8A0-D3E585F73F3C.jpeg     \b\b\b\b  0%\b\b\b\b\b  OK \n",
            "Extracting  CovidDataset/Train/Covid/0a7faa2a.jpg                        \b\b\b\b  0%\b\b\b\b\b  OK \n",
            "Extracting  CovidDataset/Train/Covid/1-s2.0-S0140673620303706-fx1_lrg.jpg     \b\b\b\b  0%\b\b\b\b  1%\b\b\b\b\b  OK \n",
            "Extracting  CovidDataset/Train/Covid/1-s2.0-S1684118220300608-main.pdf-001.jpg     \b\b\b\b  1%\b\b\b\b\b  OK \n",
            "Extracting  CovidDataset/Train/Covid/1-s2.0-S1684118220300608-main.pdf-002.jpg     \b\b\b\b  1%\b\b\b\b\b  OK \n",
            "Extracting  CovidDataset/Train/Covid/1-s2.0-S1684118220300682-main.pdf-002-a1.png     \b\b\b\b  1%\b\b\b\b\b  OK \n",
            "Extracting  CovidDataset/Train/Covid/1-s2.0-S1684118220300682-main.pdf-002-a2.png     \b\b\b\b  1%\b\b\b\b\b  OK \n",
            "Extracting  CovidDataset/Train/Covid/1-s2.0-S1684118220300682-main.pdf-003-b1.png     \b\b\b\b  1%\b\b\b\b\b  OK \n",
            "Extracting  CovidDataset/Train/Covid/1-s2.0-S1684118220300682-main.pdf-003-b2.png     \b\b\b\b  1%\b\b\b\b\b  OK \n",
            "Extracting  CovidDataset/Train/Covid/1-s2.0-S2214250920300834-gr1_lrg-b.png     \b\b\b\b  1%\b\b\b\b\b  OK \n",
            "Extracting  CovidDataset/Train/Covid/1-s2.0-S2214250920300834-gr1_lrg-c.png     \b\b\b\b  2%\b\b\b\b\b  OK \n",
            "Extracting  CovidDataset/Train/Covid/1-s2.0-S2387020620301959-gr4_lrg-b.png     \b\b\b\b  2%\b\b\b\b\b  OK \n",
            "Extracting  CovidDataset/Train/Covid/1-s2.0-S2387020620301959-gr4_lrg-c.png     \b\b\b\b  2%\b\b\b\b\b  OK \n",
            "Extracting  CovidDataset/Train/Covid/1.CXRCTThoraximagesofCOVID-19fromSingapore.pdf-000-fig1a.png     \b\b\b\b  2%\b\b\b\b\b  OK \n",
            "Extracting  CovidDataset/Train/Covid/1.CXRCTThoraximagesofCOVID-19fromSingapore.pdf-000-fig1b.png     \b\b\b\b  2%\b\b\b\b\b  OK \n",
            "Extracting  CovidDataset/Train/Covid/1.CXRCTThoraximagesofCOVID-19fromSingapore.pdf-001-fig2a.png     \b\b\b\b  2%\b\b\b\b\b  OK \n",
            "Extracting  CovidDataset/Train/Covid/1.CXRCTThoraximagesofCOVID-19fromSingapore.pdf-001-fig2b.png     \b\b\b\b  2%\b\b\b\b\b  OK \n",
            "Extracting  CovidDataset/Train/Covid/1.CXRCTThoraximagesofCOVID-19fromSingapore.pdf-002-fig3a.png     \b\b\b\b  2%\b\b\b\b\b  OK \n",
            "Extracting  CovidDataset/Train/Covid/1.CXRCTThoraximagesofCOVID-19fromSingapore.pdf-002-fig3b.png     \b\b\b\b  3%\b\b\b\b\b  OK \n",
            "Extracting  CovidDataset/Train/Covid/1.CXRCTThoraximagesofCOVID-19fromSingapore.pdf-003-fig4a.png     \b\b\b\b  3%\b\b\b\b\b  OK \n",
            "Extracting  CovidDataset/Train/Covid/1.CXRCTThoraximagesofCOVID-19fromSingapore.pdf-003-fig4b.png     \b\b\b\b  3%\b\b\b\b\b  OK \n",
            "Extracting  CovidDataset/Train/Covid/10.1016-slash-j.anl.2020.04.002-a.png     \b\b\b\b  3%\b\b\b\b\b  OK \n",
            "Extracting  CovidDataset/Train/Covid/10.1016-slash-j.crad.2020.04.002-a.png     \b\b\b\b  3%\b\b\b\b\b  OK \n",
            "Extracting  CovidDataset/Train/Covid/10.1016-slash-j.crad.2020.04.002-b.png     \b\b\b\b  3%\b\b\b\b\b  OK \n",
            "Extracting  CovidDataset/Train/Covid/1052b0fe.jpg                        \b\b\b\b  3%\b\b\b\b  4%\b\b\b\b\b  OK \n",
            "Extracting  CovidDataset/Train/Covid/1141cc2b8b9cc394becce5d978b5a7_jumbo.jpeg     \b\b\b\b  4%\b\b\b\b\b  OK \n",
            "Extracting  CovidDataset/Train/Covid/12941_2020_358_Fig1_HTML.jpg        \b\b\b\b  4%\b\b\b\b\b  OK \n",
            "Extracting  CovidDataset/Train/Covid/1312A392-67A3-4EBF-9319-810CF6DA5EF6.jpeg     \b\b\b\b  4%\b\b\b\b\b  OK \n",
            "Extracting  CovidDataset/Train/Covid/14d81f378173b86cc53f21d2d67040_jumbo.jpeg     \b\b\b\b  4%\b\b\b\b\b  OK \n",
            "Extracting  CovidDataset/Train/Covid/16660_1_1.jpg                       \b\b\b\b  4%\b\b\b\b\b  OK \n",
            "Extracting  CovidDataset/Train/Covid/16660_2_1.jpg                       \b\b\b\b  4%\b\b\b\b\b  OK \n",
            "Extracting  CovidDataset/Train/Covid/16660_3_1.jpg                       \b\b\b\b  4%\b\b\b\b\b  OK \n",
            "Extracting  CovidDataset/Train/Covid/16660_4_1.jpg                       \b\b\b\b  4%\b\b\b\b\b  OK \n",
            "Extracting  CovidDataset/Train/Covid/16660_5_1.jpg                       \b\b\b\b  4%\b\b\b\b\b  OK \n",
            "Extracting  CovidDataset/Train/Covid/16663_1_1.jpg                       \b\b\b\b  4%\b\b\b\b\b  OK \n",
            "Extracting  CovidDataset/Train/Covid/16664_1_1.jpg                       \b\b\b\b  4%\b\b\b\b\b  OK \n",
            "Extracting  CovidDataset/Train/Covid/16669_3_1.jpeg                      \b\b\b\b  5%\b\b\b\b\b  OK \n",
            "Extracting  CovidDataset/Train/Covid/16672_1_1.jpg                       \b\b\b\b  5%\b\b\b\b\b  OK \n",
            "Extracting  CovidDataset/Train/Covid/16708_1_1.jpg                       \b\b\b\b  5%\b\b\b\b\b  OK \n",
            "Extracting  CovidDataset/Train/Covid/16708_4_1.jpg                       \b\b\b\b  5%\b\b\b\b\b  OK \n",
            "Extracting  CovidDataset/Train/Covid/16708_5_1.jpg                       \b\b\b\b  5%\b\b\b\b\b  OK \n",
            "Extracting  CovidDataset/Train/Covid/16745_5_1.png                       \b\b\b\b  5%\b\b\b\b\b  OK \n",
            "Extracting  CovidDataset/Train/Covid/16747_1_1.jpg                       \b\b\b\b  5%\b\b\b\b\b  OK \n",
            "Extracting  CovidDataset/Train/Covid/16865_1_1.jpg                       \b\b\b\b  5%\b\b\b\b\b  OK \n",
            "Extracting  CovidDataset/Train/Covid/16953_3_1.jpg                       \b\b\b\b  5%\b\b\b\b\b  OK \n",
            "Extracting  CovidDataset/Train/Covid/16953_4_1.jpg                       \b\b\b\b  5%\b\b\b\b\b  OK \n",
            "Extracting  CovidDataset/Train/Covid/16953_5_1.jpg                       \b\b\b\b  5%\b\b\b\b\b  OK \n",
            "Extracting  CovidDataset/Train/Covid/19abe1f3.jpg                        \b\b\b\b  6%\b\b\b\b\b  OK \n",
            "Extracting  CovidDataset/Train/Covid/1B734A89-A1BF-49A8-A1D3-66FAFA4FAC5D.jpeg     \b\b\b\b  6%\b\b\b\b\b  OK \n",
            "Extracting  CovidDataset/Train/Covid/2-chest-filmc.jpg                   \b\b\b\b  6%\b\b\b\b\b  OK \n",
            "Extracting  CovidDataset/Train/Covid/2168a917.jpg                        \b\b\b\b  6%\b\b\b\b\b  OK \n",
            "Extracting  CovidDataset/Train/Covid/23E99E2E-447C-46E5-8EB2-D35D12473C39.png     \b\b\b\b  7%\b\b\b\b\b  OK \n",
            "Extracting  CovidDataset/Train/Covid/2966893D-5DDF-4B68-9E2B-4979D5956C8E.jpeg     \b\b\b\b  7%\b\b\b\b\b  OK \n",
            "Extracting  CovidDataset/Train/Covid/2C26F453-AF3B-4517-BB9E-802CF2179543.jpeg     \b\b\b\b  8%\b\b\b\b\b  OK \n",
            "Extracting  CovidDataset/Train/Covid/2cd63b76.jpg                        \b\b\b\b  8%\b\b\b\b\b  OK \n",
            "Extracting  CovidDataset/Train/Covid/2edb88df42cab5e5fbc18b3965e0bd_jumbo.jpeg     \b\b\b\b  8%\b\b\b\b\b  OK \n",
            "Extracting  CovidDataset/Train/Covid/353889E0-A1E8-4F9E-A0B8-F24F36BCFBFB.jpeg     \b\b\b\b  9%\b\b\b\b\b  OK \n",
            "Extracting  CovidDataset/Train/Covid/3b46de94.jpg                        \b\b\b\b  9%\b\b\b\b\b  OK \n",
            "Extracting  CovidDataset/Train/Covid/40779_2020_233_Fig2_HTML-a.png      \b\b\b\b  9%\b\b\b\b\b  OK \n",
            "Extracting  CovidDataset/Train/Covid/41182_2020_203_Fig3_HTML.jpg        \b\b\b\b  9%\b\b\b\b\b  OK \n",
            "Extracting  CovidDataset/Train/Covid/41182_2020_203_Fig4_HTML.jpg        \b\b\b\b  9%\b\b\b\b\b  OK \n",
            "Extracting  CovidDataset/Train/Covid/41182_2020_203_Fig5_HTML.jpg        \b\b\b\b 10%\b\b\b\b\b  OK \n",
            "Extracting  CovidDataset/Train/Covid/41379_2020_536_Fig2_HTML-c1.png     \b\b\b\b 10%\b\b\b\b\b  OK \n",
            "Extracting  CovidDataset/Train/Covid/41591_2020_819_Fig1_HTML.webp-day10.png     \b\b\b\b 10%\b\b\b\b\b  OK \n",
            "Extracting  CovidDataset/Train/Covid/41591_2020_819_Fig1_HTML.webp-day5.png     \b\b\b\b 10%\b\b\b\b\b  OK \n",
            "Extracting  CovidDataset/Train/Covid/441c9cdd.jpg                        \b\b\b\b 10%\b\b\b\b\b  OK \n",
            "Extracting  CovidDataset/Train/Covid/48c4542c.jpg                        \b\b\b\b 10%\b\b\b\b\b  OK \n",
            "Extracting  CovidDataset/Train/Covid/4d98e1de.jpg                        \b\b\b\b 10%\b\b\b\b\b  OK \n",
            "Extracting  CovidDataset/Train/Covid/4e43e48d52c9e2d4c6c1fb9bc1544f_jumbo.jpeg     \b\b\b\b 10%\b\b\b\b\b  OK \n",
            "Extracting  CovidDataset/Train/Covid/53EC07C9-5CC6-4BE4-9B6F-D7B0D72AAA7E.jpeg     \b\b\b\b 11%\b\b\b\b\b  OK \n",
            "Extracting  CovidDataset/Train/Covid/5782ae15.jpg                        \b\b\b\b 11%\b\b\b\b\b  OK \n",
            "Extracting  CovidDataset/Train/Covid/58cb9263f16e94305c730685358e4e_jumbo.jpeg     \b\b\b\b 11%\b\b\b\b\b  OK \n",
            "Extracting  CovidDataset/Train/Covid/5f619d7e.jpg                        \b\b\b\b 11%\b\b\b\b\b  OK \n",
            "Extracting  CovidDataset/Train/Covid/6b3bdbc31f65230b8cdcc3cef5f8ba8a-40ac-0.jpg     \b\b\b\b 11%\b\b\b\b\b  OK \n",
            "Extracting  CovidDataset/Train/Covid/6b44464d-73a7-4cf3-bbb6-ffe7168300e3.annot.original.jpeg     \b\b\b\b 11%\b\b\b\b\b  OK \n",
            "Extracting  CovidDataset/Train/Covid/6C94A287-C059-46A0-8600-AFB95F4727B7.jpeg     \b\b\b\b 11%\b\b\b\b\b  OK \n",
            "Extracting  CovidDataset/Train/Covid/6CB4EFC6-68FA-4CD5-940C-BEFA8DAFE9A7.jpeg     \b\b\b\b 12%\b\b\b\b\b  OK \n",
            "Extracting  CovidDataset/Train/Covid/7-fatal-covid19.jpg                 \b\b\b\b 12%\b\b\b\b\b  OK \n",
            "Extracting  CovidDataset/Train/Covid/7AF6C1AF-D249-4BD2-8C26-449304105D03.jpeg     \b\b\b\b 12%\b\b\b\b\b  OK \n",
            "Extracting  CovidDataset/Train/Covid/7afaaccc.jpg                        \b\b\b\b 12%\b\b\b\b\b  OK \n",
            "Extracting  CovidDataset/Train/Covid/7C69C012-7479-493F-8722-ABC29C60A2DD.jpeg     \b\b\b\b 12%\b\b\b\b\b  OK \n",
            "Extracting  CovidDataset/Train/Covid/80446565-E090-4187-A031-9D3CEAA586C8.jpeg     \b\b\b\b 12%\b\b\b\b\b  OK \n",
            "Extracting  CovidDataset/Train/Covid/80b5f00f.jpg                        \b\b\b\b 12%\b\b\b\b 13%\b\b\b\b\b  OK \n",
            "Extracting  CovidDataset/Train/Covid/82a78c13.jpg                        \b\b\b\b 13%\b\b\b\b\b  OK \n",
            "Extracting  CovidDataset/Train/Covid/88de9d8c39e946abd495b37cd07d89e5-2ee6-0.jpg     \b\b\b\b 13%\b\b\b\b\b  OK \n",
            "Extracting  CovidDataset/Train/Covid/88de9d8c39e946abd495b37cd07d89e5-6531-0.jpg     \b\b\b\b 13%\b\b\b\b\b  OK \n",
            "Extracting  CovidDataset/Train/Covid/8da14fff.jpg                        \b\b\b\b 13%\b\b\b\b\b  OK \n",
            "Extracting  CovidDataset/Train/Covid/8fc103ca.jpg                        \b\b\b\b 13%\b\b\b\b 14%\b\b\b\b\b  OK \n",
            "Extracting  CovidDataset/Train/Covid/8FDE8DBA-CFBD-4B4C-B1A4-6F36A93B7E87.jpeg     \b\b\b\b 14%\b\b\b\b\b  OK \n",
            "Extracting  CovidDataset/Train/Covid/90986ce4.jpg                        \b\b\b\b 14%\b\b\b\b\b  OK \n",
            "Extracting  CovidDataset/Train/Covid/93FE0BB1-022D-4F24-9727-987A07975FFB.jpeg     \b\b\b\b 14%\b\b\b\b\b  OK \n",
            "Extracting  CovidDataset/Train/Covid/9C34AF49-E589-44D5-92D3-168B3B04E4A6.jpeg     \b\b\b\b 14%\b\b\b\b\b  OK \n",
            "Extracting  CovidDataset/Train/Covid/9fdd3c3032296fd04d2cad5d9070d4_jumbo.jpeg     \b\b\b\b 14%\b\b\b\b\b  OK \n",
            "Extracting  CovidDataset/Train/Covid/a2eba651.jpg                        \b\b\b\b 15%\b\b\b\b\b  OK \n",
            "Extracting  CovidDataset/Train/Covid/a8ac1969.jpg                        \b\b\b\b 15%\b\b\b\b\b  OK \n",
            "Extracting  CovidDataset/Train/Normal/IM-0115-0001.jpeg                  \b\b\b\b 15%\b\b\b\b\b  OK \n",
            "Extracting  CovidDataset/Train/Normal/IM-0117-0001.jpeg                  \b\b\b\b 16%\b\b\b\b\b  OK \n",
            "Extracting  CovidDataset/Train/Normal/IM-0119-0001.jpeg                  \b\b\b\b 16%\b\b\b\b\b  OK \n",
            "Extracting  CovidDataset/Train/Normal/IM-0122-0001.jpeg                  \b\b\b\b 16%\b\b\b\b\b  OK \n",
            "Extracting  CovidDataset/Train/Normal/IM-0125-0001.jpeg                  \b\b\b\b 17%\b\b\b\b\b  OK \n",
            "Extracting  CovidDataset/Train/Normal/IM-0127-0001.jpeg                  \b\b\b\b 17%\b\b\b\b\b  OK \n",
            "Extracting  CovidDataset/Train/Normal/IM-0128-0001.jpeg                  \b\b\b\b 17%\b\b\b\b\b  OK \n",
            "Extracting  CovidDataset/Train/Normal/IM-0129-0001.jpeg                  \b\b\b\b 17%\b\b\b\b\b  OK \n",
            "Extracting  CovidDataset/Train/Normal/IM-0131-0001.jpeg                  \b\b\b\b 18%\b\b\b\b\b  OK \n",
            "Extracting  CovidDataset/Train/Normal/IM-0133-0001.jpeg                  \b\b\b\b 18%\b\b\b\b\b  OK \n",
            "Extracting  CovidDataset/Train/Normal/IM-0135-0001.jpeg                  \b\b\b\b 18%\b\b\b\b\b  OK \n",
            "Extracting  CovidDataset/Train/Normal/IM-0137-0001.jpeg                  \b\b\b\b 19%\b\b\b\b\b  OK \n",
            "Extracting  CovidDataset/Train/Normal/IM-0140-0001.jpeg                  \b\b\b\b 19%\b\b\b\b\b  OK \n",
            "Extracting  CovidDataset/Train/Normal/IM-0141-0001.jpeg                  \b\b\b\b 19%\b\b\b\b\b  OK \n",
            "Extracting  CovidDataset/Train/Normal/IM-0143-0001.jpeg                  \b\b\b\b 20%\b\b\b\b\b  OK \n",
            "Extracting  CovidDataset/Train/Normal/IM-0145-0001.jpeg                  \b\b\b\b 20%\b\b\b\b\b  OK \n",
            "Extracting  CovidDataset/Train/Normal/IM-0147-0001.jpeg                  \b\b\b\b 21%\b\b\b\b\b  OK \n",
            "Extracting  CovidDataset/Train/Normal/IM-0149-0001.jpeg                  \b\b\b\b 21%\b\b\b\b\b  OK \n",
            "Extracting  CovidDataset/Train/Normal/IM-0151-0001.jpeg                  \b\b\b\b 21%\b\b\b\b\b  OK \n",
            "Extracting  CovidDataset/Train/Normal/IM-0152-0001.jpeg                  \b\b\b\b 22%\b\b\b\b\b  OK \n",
            "Extracting  CovidDataset/Train/Normal/IM-0154-0001.jpeg                  \b\b\b\b 22%\b\b\b\b\b  OK \n",
            "Extracting  CovidDataset/Train/Normal/IM-0156-0001.jpeg                  \b\b\b\b 22%\b\b\b\b\b  OK \n",
            "Extracting  CovidDataset/Train/Normal/IM-0158-0001.jpeg                  \b\b\b\b 22%\b\b\b\b\b  OK \n",
            "Extracting  CovidDataset/Train/Normal/IM-0160-0001.jpeg                  \b\b\b\b 23%\b\b\b\b\b  OK \n",
            "Extracting  CovidDataset/Train/Normal/IM-0162-0001.jpeg                  \b\b\b\b 23%\b\b\b\b\b  OK \n",
            "Extracting  CovidDataset/Train/Normal/IM-0164-0001.jpeg                  \b\b\b\b 23%\b\b\b\b\b  OK \n",
            "Extracting  CovidDataset/Train/Normal/IM-0166-0001.jpeg                  \b\b\b\b 24%\b\b\b\b\b  OK \n",
            "Extracting  CovidDataset/Train/Normal/IM-0168-0001.jpeg                  \b\b\b\b 24%\b\b\b\b\b  OK \n",
            "Extracting  CovidDataset/Train/Normal/IM-0170-0001.jpeg                  \b\b\b\b 25%\b\b\b\b\b  OK \n",
            "Extracting  CovidDataset/Train/Normal/IM-0172-0001.jpeg                  \b\b\b\b 25%\b\b\b\b\b  OK \n",
            "Extracting  CovidDataset/Train/Normal/IM-0176-0001.jpeg                  \b\b\b\b 25%\b\b\b\b\b  OK \n",
            "Extracting  CovidDataset/Train/Normal/IM-0177-0001.jpeg                  \b\b\b\b 26%\b\b\b\b\b  OK \n",
            "Extracting  CovidDataset/Train/Normal/IM-0178-0001.jpeg                  \b\b\b\b 26%\b\b\b\b\b  OK \n",
            "Extracting  CovidDataset/Train/Normal/IM-0180-0001.jpeg                  \b\b\b\b 27%\b\b\b\b\b  OK \n",
            "Extracting  CovidDataset/Train/Normal/IM-0182-0001.jpeg                  \b\b\b\b 27%\b\b\b\b\b  OK \n",
            "Extracting  CovidDataset/Train/Normal/IM-0183-0001.jpeg                  \b\b\b\b 28%\b\b\b\b\b  OK \n",
            "Extracting  CovidDataset/Train/Normal/IM-0185-0001.jpeg                  \b\b\b\b 28%\b\b\b\b\b  OK \n",
            "Extracting  CovidDataset/Train/Normal/IM-0187-0001.jpeg                  \b\b\b\b 28%\b\b\b\b\b  OK \n",
            "Extracting  CovidDataset/Train/Normal/IM-0189-0001.jpeg                  \b\b\b\b 28%\b\b\b\b\b  OK \n",
            "Extracting  CovidDataset/Train/Normal/IM-0191-0001.jpeg                  \b\b\b\b 29%\b\b\b\b\b  OK \n",
            "Extracting  CovidDataset/Train/Normal/IM-0193-0001.jpeg                  \b\b\b\b 30%\b\b\b\b\b  OK \n",
            "Extracting  CovidDataset/Train/Normal/IM-0195-0001.jpeg                  \b\b\b\b 30%\b\b\b\b\b  OK \n",
            "Extracting  CovidDataset/Train/Normal/IM-0199-0001.jpeg                  \b\b\b\b 30%\b\b\b\b\b  OK \n",
            "Extracting  CovidDataset/Train/Normal/IM-0201-0001.jpeg                  \b\b\b\b 30%\b\b\b\b\b  OK \n",
            "Extracting  CovidDataset/Train/Normal/IM-0203-0001.jpeg                  \b\b\b\b 31%\b\b\b\b\b  OK \n",
            "Extracting  CovidDataset/Train/Normal/IM-0205-0001.jpeg                  \b\b\b\b 31%\b\b\b\b\b  OK \n",
            "Extracting  CovidDataset/Train/Normal/IM-0206-0001.jpeg                  \b\b\b\b 31%\b\b\b\b\b  OK \n",
            "Extracting  CovidDataset/Train/Normal/IM-0207-0001.jpeg                  \b\b\b\b 31%\b\b\b\b\b  OK \n",
            "Extracting  CovidDataset/Train/Normal/IM-0209-0001.jpeg                  \b\b\b\b 32%\b\b\b\b\b  OK \n",
            "Extracting  CovidDataset/Train/Normal/IM-0210-0001.jpeg                  \b\b\b\b 32%\b\b\b\b\b  OK \n",
            "Extracting  CovidDataset/Train/Normal/IM-0222-0001.jpeg                  \b\b\b\b 32%\b\b\b\b\b  OK \n",
            "Extracting  CovidDataset/Train/Normal/IM-0223-0001.jpeg                  \b\b\b\b 32%\b\b\b\b\b  OK \n",
            "Extracting  CovidDataset/Train/Normal/IM-0224-0001.jpeg                  \b\b\b\b 33%\b\b\b\b\b  OK \n",
            "Extracting  CovidDataset/Train/Normal/IM-0225-0001.jpeg                  \b\b\b\b 33%\b\b\b\b\b  OK \n",
            "Extracting  CovidDataset/Train/Normal/IM-0226-0001.jpeg                  \b\b\b\b 34%\b\b\b\b\b  OK \n",
            "Extracting  CovidDataset/Train/Normal/IM-0227-0001.jpeg                  \b\b\b\b 34%\b\b\b\b\b  OK \n",
            "Extracting  CovidDataset/Train/Normal/IM-0228-0001.jpeg                  \b\b\b\b 34%\b\b\b\b\b  OK \n",
            "Extracting  CovidDataset/Train/Normal/IM-0229-0001.jpeg                  \b\b\b\b 35%\b\b\b\b\b  OK \n",
            "Extracting  CovidDataset/Train/Normal/IM-0230-0001.jpeg                  \b\b\b\b 35%\b\b\b\b\b  OK \n",
            "Extracting  CovidDataset/Train/Normal/IM-0231-0001.jpeg                  \b\b\b\b 35%\b\b\b\b\b  OK \n",
            "Extracting  CovidDataset/Train/Normal/IM-0234-0001.jpeg                  \b\b\b\b 35%\b\b\b\b\b  OK \n",
            "Extracting  CovidDataset/Train/Normal/IM-0235-0001.jpeg                  \b\b\b\b 36%\b\b\b\b\b  OK \n",
            "Extracting  CovidDataset/Train/Normal/IM-0236-0001.jpeg                  \b\b\b\b 36%\b\b\b\b\b  OK \n",
            "Extracting  CovidDataset/Train/Normal/IM-0237-0001.jpeg                  \b\b\b\b 36%\b\b\b\b\b  OK \n",
            "Extracting  CovidDataset/Train/Normal/IM-0238-0001.jpeg                  \b\b\b\b 37%\b\b\b\b\b  OK \n",
            "Extracting  CovidDataset/Train/Normal/IM-0239-0001.jpeg                  \b\b\b\b 37%\b\b\b\b\b  OK \n",
            "Extracting  CovidDataset/Train/Normal/IM-0240-0001.jpeg                  \b\b\b\b 37%\b\b\b\b\b  OK \n",
            "Extracting  CovidDataset/Train/Normal/IM-0241-0001.jpeg                  \b\b\b\b 38%\b\b\b\b\b  OK \n",
            "Extracting  CovidDataset/Train/Normal/IM-0242-0001.jpeg                  \b\b\b\b 38%\b\b\b\b\b  OK \n",
            "Extracting  CovidDataset/Train/Normal/IM-0243-0001.jpeg                  \b\b\b\b 39%\b\b\b\b\b  OK \n",
            "Extracting  CovidDataset/Train/Normal/IM-0244-0001.jpeg                  \b\b\b\b 39%\b\b\b\b\b  OK \n",
            "Extracting  CovidDataset/Train/Normal/IM-0245-0001.jpeg                  \b\b\b\b 39%\b\b\b\b\b  OK \n",
            "Extracting  CovidDataset/Train/Normal/IM-0248-0001.jpeg                  \b\b\b\b 39%\b\b\b\b\b  OK \n",
            "Extracting  CovidDataset/Train/Normal/IM-0249-0001.jpeg                  \b\b\b\b 40%\b\b\b\b\b  OK \n",
            "Extracting  CovidDataset/Train/Normal/IM-0250-0001.jpeg                  \b\b\b\b 40%\b\b\b\b\b  OK \n",
            "Extracting  CovidDataset/Train/Normal/IM-0251-0001.jpeg                  \b\b\b\b 41%\b\b\b\b\b  OK \n",
            "Extracting  CovidDataset/Train/Normal/IM-0253-0001.jpeg                  \b\b\b\b 41%\b\b\b\b\b  OK \n",
            "Extracting  CovidDataset/Train/Normal/IM-0255-0001.jpeg                  \b\b\b\b 41%\b\b\b\b\b  OK \n",
            "Extracting  CovidDataset/Train/Normal/IM-0256-0001.jpeg                  \b\b\b\b 41%\b\b\b\b\b  OK \n",
            "Extracting  CovidDataset/Train/Normal/IM-0257-0001.jpeg                  \b\b\b\b 42%\b\b\b\b\b  OK \n",
            "Extracting  CovidDataset/Train/Normal/IM-0261-0001.jpeg                  \b\b\b\b 42%\b\b\b\b\b  OK \n",
            "Extracting  CovidDataset/Train/Normal/IM-0262-0001.jpeg                  \b\b\b\b 42%\b\b\b\b\b  OK \n",
            "Extracting  CovidDataset/Train/Normal/IM-0264-0001.jpeg                  \b\b\b\b 43%\b\b\b\b\b  OK \n",
            "Extracting  CovidDataset/Train/Normal/IM-0265-0001.jpeg                  \b\b\b\b 43%\b\b\b\b\b  OK \n",
            "Extracting  CovidDataset/Train/Normal/IM-0266-0001.jpeg                  \b\b\b\b 43%\b\b\b\b\b  OK \n",
            "Extracting  CovidDataset/Train/Normal/IM-0268-0001.jpeg                  \b\b\b\b 44%\b\b\b\b\b  OK \n",
            "Extracting  CovidDataset/Train/Normal/IM-0269-0001.jpeg                  \b\b\b\b 44%\b\b\b\b\b  OK \n",
            "Extracting  CovidDataset/Train/Normal/IM-0270-0001.jpeg                  \b\b\b\b 44%\b\b\b\b\b  OK \n",
            "Extracting  CovidDataset/Train/Normal/IM-0272-0001.jpeg                  \b\b\b\b 45%\b\b\b\b\b  OK \n",
            "Extracting  CovidDataset/Train/Normal/IM-0273-0001.jpeg                  \b\b\b\b 45%\b\b\b\b\b  OK \n",
            "Extracting  CovidDataset/Train/Normal/IM-0274-0001.jpeg                  \b\b\b\b 45%\b\b\b\b\b  OK \n",
            "Extracting  CovidDataset/Train/Normal/IM-0275-0001.jpeg                  \b\b\b\b 46%\b\b\b\b\b  OK \n",
            "Extracting  CovidDataset/Train/Normal/IM-0276-0001.jpeg                  \b\b\b\b 46%\b\b\b\b\b  OK \n",
            "Extracting  CovidDataset/Train/Normal/IM-0277-0001.jpeg                  \b\b\b\b 46%\b\b\b\b\b  OK \n",
            "Extracting  CovidDataset/Train/Normal/IM-0278-0001.jpeg                  \b\b\b\b 47%\b\b\b\b\b  OK \n",
            "Extracting  CovidDataset/Train/Normal/IM-0279-0001.jpeg                  \b\b\b\b 47%\b\b\b\b\b  OK \n",
            "Extracting  CovidDataset/Val/Covid/a361d7b7.jpg                          \b\b\b\b 47%\b\b\b\b\b  OK \n",
            "Extracting  CovidDataset/Val/Covid/ac4f6e4e.jpg                          \b\b\b\b 48%\b\b\b\b\b  OK \n",
            "Extracting  CovidDataset/Val/Covid/all14238-fig-0001-m-b.jpg             \b\b\b\b 48%\b\b\b\b\b  OK \n",
            "Extracting  CovidDataset/Val/Covid/all14238-fig-0001-m-c.jpg             \b\b\b\b 48%\b\b\b\b\b  OK \n",
            "Extracting  CovidDataset/Val/Covid/AR-1.jpg                              \b\b\b\b 48%\b\b\b\b\b  OK \n",
            "Extracting  CovidDataset/Val/Covid/AR-2.jpg                              \b\b\b\b 48%\b\b\b\b\b  OK \n",
            "Extracting  CovidDataset/Val/Covid/article_river_e4d185c06e3511eaa2321d8ab357a1de-c1mn.png     \b\b\b\b 48%\b\b\b\b\b  OK \n",
            "Extracting  CovidDataset/Val/Covid/auntminnie-a-2020_01_28_23_51_6665_2020_01_28_Vietnam_coronavirus.jpeg     \b\b\b\b 48%\b\b\b\b\b  OK \n",
            "Extracting  CovidDataset/Val/Covid/auntminnie-b-2020_01_28_23_51_6665_2020_01_28_Vietnam_coronavirus.jpeg     \b\b\b\b 49%\b\b\b\b\b  OK \n",
            "Extracting  CovidDataset/Val/Covid/auntminnie-c-2020_01_28_23_51_6665_2020_01_28_Vietnam_coronavirus.jpeg     \b\b\b\b 49%\b\b\b\b\b  OK \n",
            "Extracting  CovidDataset/Val/Covid/auntminnie-d-2020_01_28_23_51_6665_2020_01_28_Vietnam_coronavirus.jpeg     \b\b\b\b 49%\b\b\b\b\b  OK \n",
            "Extracting  CovidDataset/Val/Covid/b0f1684d1ee90dc09deef015e29dae_jumbo.jpeg     \b\b\b\b 49%\b\b\b\b\b  OK \n",
            "Extracting  CovidDataset/Val/Covid/b9673e89.jpg                          \b\b\b\b 49%\b\b\b\b\b  OK \n",
            "Extracting  CovidDataset/Val/Covid/bb0e626a.jpg                          \b\b\b\b 49%\b\b\b\b 50%\b\b\b\b\b  OK \n",
            "Extracting  CovidDataset/Val/Covid/bd10d5e2.jpg                          \b\b\b\b 50%\b\b\b\b\b  OK \n",
            "Extracting  CovidDataset/Val/Covid/BMJ-37-163-g1.jpg                     \b\b\b\b 50%\b\b\b\b\b  OK \n",
            "Extracting  CovidDataset/Val/Covid/c0f74558.jpg                          \b\b\b\b 51%\b\b\b\b\b  OK \n",
            "Extracting  CovidDataset/Val/Covid/c3829ecb.jpg                          \b\b\b\b 51%\b\b\b\b\b  OK \n",
            "Extracting  CovidDataset/Val/Covid/c601f50d.jpg                          \b\b\b\b 51%\b\b\b\b\b  OK \n",
            "Extracting  CovidDataset/Val/Covid/CD50BA96-6982-4C80-AE7B-5F67ACDBFA56.jpeg     \b\b\b\b 52%\b\b\b\b\b  OK \n",
            "Extracting  CovidDataset/Val/Covid/ciaa199.pdf-001-a.png                 \b\b\b\b 52%\b\b\b\b\b  OK \n",
            "Extracting  CovidDataset/Val/Covid/ciaa199.pdf-001-b.png                 \b\b\b\b 52%\b\b\b\b\b  OK \n",
            "Extracting  CovidDataset/Val/Covid/covid-19-caso-70-1-PA.jpg             \b\b\b\b 52%\b\b\b\b\b  OK \n",
            "Extracting  CovidDataset/Val/Covid/covid-19-caso-82-1-8.png              \b\b\b\b 53%\b\b\b\b\b  OK \n",
            "Extracting  CovidDataset/Val/Covid/covid-19-caso-91-1-12.png             \b\b\b\b 53%\b\b\b\b\b  OK \n",
            "Extracting  CovidDataset/Val/Covid/covid-19-caso-94-1-14.png             \b\b\b\b 54%\b\b\b\b\b  OK \n",
            "Extracting  CovidDataset/Val/Covid/covid-19-caso-95-1-15.png             \b\b\b\b 54%\b\b\b\b\b  OK \n",
            "Extracting  CovidDataset/Val/Covid/covid-19-caso-95-3-14.png             \b\b\b\b 54%\b\b\b\b\b  OK \n",
            "Extracting  CovidDataset/Val/Covid/covid-19-infection-exclusive-gastrointestinal-symptoms-pa.png     \b\b\b\b 55%\b\b\b\b\b  OK \n",
            "Extracting  CovidDataset/Val/Covid/covid-19-pneumonia-14-PA.png          \b\b\b\b 58%\b\b\b\b\b  OK \n",
            "Extracting  CovidDataset/Val/Covid/covid-19-pneumonia-15-PA.jpg          \b\b\b\b 59%\b\b\b\b\b  OK \n",
            "Extracting  CovidDataset/Val/Covid/covid-19-pneumonia-20-pa-on-admission.jpg     \b\b\b\b 59%\b\b\b\b\b  OK \n",
            "Extracting  CovidDataset/Val/Covid/covid-19-pneumonia-20.jpg             \b\b\b\b 59%\b\b\b\b\b  OK \n",
            "Extracting  CovidDataset/Val/Covid/covid-19-pneumonia-22-day1-pa.png     \b\b\b\b 60%\b\b\b\b\b  OK \n",
            "Extracting  CovidDataset/Val/Covid/covid-19-pneumonia-22-day2-pa.png     \b\b\b\b 60%\b\b\b\b\b  OK \n",
            "Extracting  CovidDataset/Val/Covid/covid-19-pneumonia-28.png             \b\b\b\b 61%\b\b\b\b\b  OK \n",
            "Extracting  CovidDataset/Val/Covid/covid-19-pneumonia-30-PA.jpg          \b\b\b\b 61%\b\b\b\b\b  OK \n",
            "Extracting  CovidDataset/Val/Covid/covid-19-pneumonia-35-1.jpg           \b\b\b\b 62%\b\b\b\b\b  OK \n",
            "Extracting  CovidDataset/Val/Covid/covid-19-pneumonia-35-2.jpg           \b\b\b\b 62%\b\b\b\b\b  OK \n",
            "Extracting  CovidDataset/Val/Covid/covid-19-pneumonia-38-pa.jpg          \b\b\b\b 63%\b\b\b\b\b  OK \n",
            "Extracting  CovidDataset/Val/Covid/covid-19-pneumonia-44-day-0.jpeg      \b\b\b\b 63%\b\b\b\b\b  OK \n",
            "Extracting  CovidDataset/Val/Covid/covid-19-pneumonia-53.jpg             \b\b\b\b 63%\b\b\b\b\b  OK \n",
            "Extracting  CovidDataset/Val/Covid/covid-19-pneumonia-7-PA.jpg           \b\b\b\b 63%\b\b\b\b\b  OK \n",
            "Extracting  CovidDataset/Val/Covid/covid-19-pneumonia-8.jpg              \b\b\b\b 63%\b\b\b\b\b  OK \n",
            "Extracting  CovidDataset/Val/Covid/covid-19-pneumonia-93.png             \b\b\b\b 63%\b\b\b\b\b  OK \n",
            "Extracting  CovidDataset/Val/Covid/covid-19-pneumonia-evolution-over-a-week-1-day0-PA.jpg     \b\b\b\b 63%\b\b\b\b\b  OK \n",
            "Extracting  CovidDataset/Val/Covid/covid-19-pneumonia-mild.JPG           \b\b\b\b 64%\b\b\b\b\b  OK \n",
            "Extracting  CovidDataset/Val/Covid/covid-19-pneumonia-rapidly-progressive-12-hours.jpg     \b\b\b\b 64%\b\b\b\b\b  OK \n",
            "Extracting  CovidDataset/Val/Covid/covid-19-pneumonia-rapidly-progressive-3-days.jpg     \b\b\b\b 64%\b\b\b\b\b  OK \n",
            "Extracting  CovidDataset/Val/Covid/covid-19-pneumonia-rapidly-progressive-admission.jpg     \b\b\b\b 64%\b\b\b\b\b  OK \n",
            "Extracting  CovidDataset/Val/Covid/covid-19-rapidly-progressive-acute-respiratory-distress-syndrome-ards-admission.jpg     \b\b\b\b 64%\b\b\b\b\b  OK \n",
            "Extracting  CovidDataset/Val/Covid/covid-19-rapidly-progressive-acute-respiratory-distress-syndrome-ards-day-1.jpg     \b\b\b\b 64%\b\b\b\b\b  OK \n",
            "Extracting  CovidDataset/Val/Covid/covid-19-rapidly-progressive-acute-respiratory-distress-syndrome-ards-day-2.jpg     \b\b\b\b 64%\b\b\b\b\b  OK \n",
            "Extracting  CovidDataset/Val/Covid/covid-19-rapidly-progressive-acute-respiratory-distress-syndrome-ards-day-3.jpg     \b\b\b\b 64%\b\b\b\b\b  OK \n",
            "Extracting  CovidDataset/Val/Covid/d009d61f.jpg                          \b\b\b\b 64%\b\b\b\b\b  OK \n",
            "Extracting  CovidDataset/Val/Covid/d9d6ca9a.jpg                          \b\b\b\b 65%\b\b\b\b\b  OK \n",
            "Extracting  CovidDataset/Val/Covid/e1446fe8.jpg                          \b\b\b\b 65%\b\b\b\b\b  OK \n",
            "Extracting  CovidDataset/Val/Covid/E63574A7-4188-4C8D-8D17-9D67A18A1AFA.jpeg     \b\b\b\b 65%\b\b\b\b\b  OK \n",
            "Extracting  CovidDataset/Val/Covid/ec083e35.jpg                          \b\b\b\b 65%\b\b\b\b\b  OK \n",
            "Extracting  CovidDataset/Val/Covid/extubation-1.jpg                      \b\b\b\b 65%\b\b\b\b\b  OK \n",
            "Extracting  CovidDataset/Val/Covid/extubation-13.jpg                     \b\b\b\b 65%\b\b\b\b\b  OK \n",
            "Extracting  CovidDataset/Val/Covid/extubation-4.jpg                      \b\b\b\b 65%\b\b\b\b\b  OK \n",
            "Extracting  CovidDataset/Val/Covid/extubation-8.jpg                      \b\b\b\b 65%\b\b\b\b\b  OK \n",
            "Extracting  CovidDataset/Val/Covid/F4341CE7-73C9-45C6-99C8-8567A5484B63.jpeg     \b\b\b\b 66%\b\b\b\b\b  OK \n",
            "Extracting  CovidDataset/Val/Covid/f64132c8.jpg                          \b\b\b\b 66%\b\b\b\b\b  OK \n",
            "Extracting  CovidDataset/Val/Covid/f6575117.jpg                          \b\b\b\b 66%\b\b\b\b\b  OK \n",
            "Extracting  CovidDataset/Val/Covid/f6d980a0.jpg                          \b\b\b\b 66%\b\b\b\b\b  OK \n",
            "Extracting  CovidDataset/Val/Covid/f8335316.jpg                          \b\b\b\b 67%\b\b\b\b\b  OK \n",
            "Extracting  CovidDataset/Val/Covid/FE9F9A5D-2830-46F9-851B-1FF4534959BE.jpeg     \b\b\b\b 67%\b\b\b\b\b  OK \n",
            "Extracting  CovidDataset/Val/Covid/fff49165-b22d-4bb4-b9d1-d5d62c52436c.annot.original.png     \b\b\b\b 67%\b\b\b\b\b  OK \n",
            "Extracting  CovidDataset/Val/Covid/figure1-5e71be566aa8714a04de3386-98-left.jpeg     \b\b\b\b 67%\b\b\b\b 68%\b\b\b\b\b  OK \n",
            "Extracting  CovidDataset/Val/Covid/figure1-5e75d0940b71e1b702629659-98-right.jpeg     \b\b\b\b 68%\b\b\b\b\b  OK \n",
            "Extracting  CovidDataset/Val/Covid/gr1_lrg-a.jpg                         \b\b\b\b 68%\b\b\b\b\b  OK \n",
            "Extracting  CovidDataset/Val/Covid/gr1_lrg-b.jpg                         \b\b\b\b 68%\b\b\b\b\b  OK \n",
            "Extracting  CovidDataset/Val/Covid/kjr-21-e25-g001-l-a.jpg               \b\b\b\b 68%\b\b\b\b\b  OK \n",
            "Extracting  CovidDataset/Val/Covid/lancet-case2a.jpg                     \b\b\b\b 68%\b\b\b\b\b  OK \n",
            "Extracting  CovidDataset/Val/Covid/lancet-case2b.jpg                     \b\b\b\b 68%\b\b\b\b\b  OK \n",
            "Extracting  CovidDataset/Val/Covid/nCoV-radiol.2020200269.fig1-day7.jpeg     \b\b\b\b 68%\b\b\b\b\b  OK \n",
            "Extracting  CovidDataset/Val/Covid/nejmc2001573_f1a.jpeg                 \b\b\b\b 68%\b\b\b\b\b  OK \n",
            "Extracting  CovidDataset/Val/Covid/nejmc2001573_f1b.jpeg                 \b\b\b\b 69%\b\b\b\b\b  OK \n",
            "Extracting  CovidDataset/Val/Covid/nejmoa2001191_f1-PA.jpeg              \b\b\b\b 69%\b\b\b\b\b  OK \n",
            "Extracting  CovidDataset/Val/Covid/nejmoa2001191_f3-PA.jpeg              \b\b\b\b 69%\b\b\b\b\b  OK \n",
            "Extracting  CovidDataset/Val/Covid/nejmoa2001191_f4.jpeg                 \b\b\b\b 69%\b\b\b\b\b  OK \n",
            "Extracting  CovidDataset/Val/Covid/nejmoa2001191_f5-PA.jpeg              \b\b\b\b 69%\b\b\b\b\b  OK \n",
            "Extracting  CovidDataset/Val/Covid/paving.jpg                            \b\b\b\b 69%\b\b\b\b\b  OK \n",
            "Extracting  CovidDataset/Val/Covid/radiol.2020200274.fig3d.png           \b\b\b\b 69%\b\b\b\b\b  OK \n",
            "Extracting  CovidDataset/Val/Covid/radiol.2020200490.fig3.jpeg           \b\b\b\b 69%\b\b\b\b\b  OK \n",
            "Extracting  CovidDataset/Val/Covid/ryct.2020003.fig2-a.png               \b\b\b\b 69%\b\b\b\b\b  OK \n",
            "Extracting  CovidDataset/Val/Covid/ryct.2020003.fig2-b.png               \b\b\b\b 69%\b\b\b\b\b  OK \n",
            "Extracting  CovidDataset/Val/Covid/ryct.2020003.fig2-c.png               \b\b\b\b 69%\b\b\b\b\b  OK \n",
            "Extracting  CovidDataset/Val/Covid/ryct.2020200028.fig1a.jpeg            \b\b\b\b 71%\b\b\b\b\b  OK \n",
            "Extracting  CovidDataset/Val/Covid/ryct.2020200034.fig2.jpeg             \b\b\b\b 71%\b\b\b\b\b  OK \n",
            "Extracting  CovidDataset/Val/Covid/ryct.2020200034.fig5-day0.jpeg        \b\b\b\b 71%\b\b\b\b\b  OK \n",
            "Extracting  CovidDataset/Val/Covid/ryct.2020200034.fig5-day4.jpeg        \b\b\b\b 71%\b\b\b\b\b  OK \n",
            "Extracting  CovidDataset/Val/Covid/ryct.2020200034.fig5-day7.jpeg        \b\b\b\b 71%\b\b\b\b\b  OK \n",
            "Extracting  CovidDataset/Val/Covid/thnov10p5641g006-c.png                \b\b\b\b 71%\b\b\b\b\b  OK \n",
            "Extracting  CovidDataset/Val/Normal/IM-0280-0001.jpeg                    \b\b\b\b 71%\b\b\b\b\b  OK \n",
            "Extracting  CovidDataset/Val/Normal/IM-0282-0001.jpeg                    \b\b\b\b 72%\b\b\b\b\b  OK \n",
            "Extracting  CovidDataset/Val/Normal/IM-0283-0001.jpeg                    \b\b\b\b 72%\b\b\b\b\b  OK \n",
            "Extracting  CovidDataset/Val/Normal/IM-0285-0001.jpeg                    \b\b\b\b 72%\b\b\b\b\b  OK \n",
            "Extracting  CovidDataset/Val/Normal/IM-0286-0001.jpeg                    \b\b\b\b 73%\b\b\b\b\b  OK \n",
            "Extracting  CovidDataset/Val/Normal/IM-0288-0001.jpeg                    \b\b\b\b 73%\b\b\b\b\b  OK \n",
            "Extracting  CovidDataset/Val/Normal/IM-0289-0001.jpeg                    \b\b\b\b 74%\b\b\b\b\b  OK \n",
            "Extracting  CovidDataset/Val/Normal/IM-0290-0001.jpeg                    \b\b\b\b 74%\b\b\b\b\b  OK \n",
            "Extracting  CovidDataset/Val/Normal/IM-0291-0001.jpeg                    \b\b\b\b 74%\b\b\b\b\b  OK \n",
            "Extracting  CovidDataset/Val/Normal/IM-0292-0001.jpeg                    \b\b\b\b 75%\b\b\b\b\b  OK \n",
            "Extracting  CovidDataset/Val/Normal/IM-0293-0001.jpeg                    \b\b\b\b 75%\b\b\b\b\b  OK \n",
            "Extracting  CovidDataset/Val/Normal/IM-0294-0001.jpeg                    \b\b\b\b 75%\b\b\b\b\b  OK \n",
            "Extracting  CovidDataset/Val/Normal/IM-0295-0001.jpeg                    \b\b\b\b 76%\b\b\b\b\b  OK \n",
            "Extracting  CovidDataset/Val/Normal/IM-0297-0001.jpeg                    \b\b\b\b 76%\b\b\b\b\b  OK \n",
            "Extracting  CovidDataset/Val/Normal/IM-0298-0001.jpeg                    \b\b\b\b 76%\b\b\b\b\b  OK \n",
            "Extracting  CovidDataset/Val/Normal/IM-0299-0001.jpeg                    \b\b\b\b 77%\b\b\b\b\b  OK \n",
            "Extracting  CovidDataset/Val/Normal/IM-0300-0001.jpeg                    \b\b\b\b 77%\b\b\b\b\b  OK \n",
            "Extracting  CovidDataset/Val/Normal/IM-0301-0001.jpeg                    \b\b\b\b 77%\b\b\b\b\b  OK \n",
            "Extracting  CovidDataset/Val/Normal/IM-0302-0001.jpeg                    \b\b\b\b 78%\b\b\b\b\b  OK \n",
            "Extracting  CovidDataset/Val/Normal/IM-0303-0001.jpeg                    \b\b\b\b 78%\b\b\b\b\b  OK \n",
            "Extracting  CovidDataset/Val/Normal/IM-0304-0001.jpeg                    \b\b\b\b 78%\b\b\b\b\b  OK \n",
            "Extracting  CovidDataset/Val/Normal/IM-0305-0001.jpeg                    \b\b\b\b 79%\b\b\b\b\b  OK \n",
            "Extracting  CovidDataset/Val/Normal/IM-0306-0001.jpeg                    \b\b\b\b 79%\b\b\b\b\b  OK \n",
            "Extracting  CovidDataset/Val/Normal/IM-0307-0001.jpeg                    \b\b\b\b 79%\b\b\b\b\b  OK \n",
            "Extracting  CovidDataset/Val/Normal/IM-0308-0001.jpeg                    \b\b\b\b 80%\b\b\b\b\b  OK \n",
            "Extracting  CovidDataset/Val/Normal/IM-0309-0001.jpeg                    \b\b\b\b 80%\b\b\b\b\b  OK \n",
            "Extracting  CovidDataset/Val/Normal/IM-0311-0001.jpeg                    \b\b\b\b 80%\b\b\b\b\b  OK \n",
            "Extracting  CovidDataset/Val/Normal/IM-0312-0001.jpeg                    \b\b\b\b 81%\b\b\b\b\b  OK \n",
            "Extracting  CovidDataset/Val/Normal/IM-0313-0001.jpeg                    \b\b\b\b 81%\b\b\b\b\b  OK \n",
            "Extracting  CovidDataset/Val/Normal/IM-0314-0001.jpeg                    \b\b\b\b 81%\b\b\b\b\b  OK \n",
            "Extracting  CovidDataset/Val/Normal/IM-0315-0001.jpeg                    \b\b\b\b 81%\b\b\b\b\b  OK \n",
            "Extracting  CovidDataset/Val/Normal/IM-0316-0001.jpeg                    \b\b\b\b 82%\b\b\b\b\b  OK \n",
            "Extracting  CovidDataset/Val/Normal/IM-0317-0001.jpeg                    \b\b\b\b 82%\b\b\b\b\b  OK \n",
            "Extracting  CovidDataset/Val/Normal/IM-0318-0001.jpeg                    \b\b\b\b 82%\b\b\b\b\b  OK \n",
            "Extracting  CovidDataset/Val/Normal/IM-0319-0001.jpeg                    \b\b\b\b 83%\b\b\b\b\b  OK \n",
            "Extracting  CovidDataset/Val/Normal/IM-0320-0001.jpeg                    \b\b\b\b 83%\b\b\b\b\b  OK \n",
            "Extracting  CovidDataset/Val/Normal/IM-0323-0001.jpeg                    \b\b\b\b 83%\b\b\b\b\b  OK \n",
            "Extracting  CovidDataset/Val/Normal/IM-0324-0001.jpeg                    \b\b\b\b 84%\b\b\b\b\b  OK \n",
            "Extracting  CovidDataset/Val/Normal/IM-0325-0001.jpeg                    \b\b\b\b 84%\b\b\b\b\b  OK \n",
            "Extracting  CovidDataset/Val/Normal/IM-0326-0001.jpeg                    \b\b\b\b 84%\b\b\b\b\b  OK \n",
            "Extracting  CovidDataset/Val/Normal/IM-0327-0001.jpeg                    \b\b\b\b 85%\b\b\b\b\b  OK \n",
            "Extracting  CovidDataset/Val/Normal/IM-0329-0001.jpeg                    \b\b\b\b 85%\b\b\b\b\b  OK \n",
            "Extracting  CovidDataset/Val/Normal/IM-0330-0001.jpeg                    \b\b\b\b 85%\b\b\b\b\b  OK \n",
            "Extracting  CovidDataset/Val/Normal/IM-0331-0001.jpeg                    \b\b\b\b 85%\b\b\b\b\b  OK \n",
            "Extracting  CovidDataset/Val/Normal/IM-0332-0001.jpeg                    \b\b\b\b 86%\b\b\b\b\b  OK \n",
            "Extracting  CovidDataset/Val/Normal/IM-0333-0001.jpeg                    \b\b\b\b 86%\b\b\b\b\b  OK \n",
            "Extracting  CovidDataset/Val/Normal/IM-0335-0001.jpeg                    \b\b\b\b 87%\b\b\b\b\b  OK \n",
            "Extracting  CovidDataset/Val/Normal/IM-0337-0001.jpeg                    \b\b\b\b 87%\b\b\b\b\b  OK \n",
            "Extracting  CovidDataset/Val/Normal/IM-0338-0001.jpeg                    \b\b\b\b 87%\b\b\b\b\b  OK \n",
            "Extracting  CovidDataset/Val/Normal/IM-0339-0001.jpeg                    \b\b\b\b 88%\b\b\b\b\b  OK \n",
            "Extracting  CovidDataset/Val/Normal/IM-0340-0001.jpeg                    \b\b\b\b 88%\b\b\b\b\b  OK \n",
            "Extracting  CovidDataset/Val/Normal/IM-0341-0001.jpeg                    \b\b\b\b 88%\b\b\b\b\b  OK \n",
            "Extracting  CovidDataset/Val/Normal/IM-0343-0001.jpeg                    \b\b\b\b 89%\b\b\b\b\b  OK \n",
            "Extracting  CovidDataset/Val/Normal/IM-0345-0001.jpeg                    \b\b\b\b 89%\b\b\b\b\b  OK \n",
            "Extracting  CovidDataset/Val/Normal/IM-0346-0001.jpeg                    \b\b\b\b 89%\b\b\b\b\b  OK \n",
            "Extracting  CovidDataset/Val/Normal/IM-0347-0001.jpeg                    \b\b\b\b 90%\b\b\b\b\b  OK \n",
            "Extracting  CovidDataset/Val/Normal/IM-0348-0001.jpeg                    \b\b\b\b 90%\b\b\b\b\b  OK \n",
            "Extracting  CovidDataset/Val/Normal/IM-0349-0001.jpeg                    \b\b\b\b 90%\b\b\b\b\b  OK \n",
            "Extracting  CovidDataset/Val/Normal/IM-0350-0001.jpeg                    \b\b\b\b 90%\b\b\b\b\b  OK \n",
            "Extracting  CovidDataset/Val/Normal/IM-0351-0001.jpeg                    \b\b\b\b 91%\b\b\b\b\b  OK \n",
            "Extracting  CovidDataset/Val/Normal/IM-0353-0001.jpeg                    \b\b\b\b 91%\b\b\b\b\b  OK \n",
            "Extracting  CovidDataset/Val/Normal/IM-0354-0001.jpeg                    \b\b\b\b 91%\b\b\b\b\b  OK \n",
            "Extracting  CovidDataset/Val/Normal/IM-0355-0001.jpeg                    \b\b\b\b 92%\b\b\b\b\b  OK \n",
            "Extracting  CovidDataset/Val/Normal/IM-0357-0001.jpeg                    \b\b\b\b 92%\b\b\b\b\b  OK \n",
            "Extracting  CovidDataset/Val/Normal/IM-0358-0001.jpeg                    \b\b\b\b 93%\b\b\b\b\b  OK \n",
            "Extracting  CovidDataset/Val/Normal/IM-0369-0001.jpeg                    \b\b\b\b 93%\b\b\b\b\b  OK \n",
            "Extracting  CovidDataset/Val/Normal/IM-0383-0001.jpeg                    \b\b\b\b 93%\b\b\b\b\b  OK \n",
            "Extracting  CovidDataset/Val/Normal/IM-0394-0001.jpeg                    \b\b\b\b 93%\b\b\b\b\b  OK \n",
            "Extracting  CovidDataset/Val/Normal/NORMAL2-IM-1343-0001.jpeg            \b\b\b\b 94%\b\b\b\b\b  OK \n",
            "Extracting  CovidDataset/Val/Normal/NORMAL2-IM-1344-0001.jpeg            \b\b\b\b 94%\b\b\b\b\b  OK \n",
            "Extracting  CovidDataset/Val/Normal/NORMAL2-IM-1345-0001-0001.jpeg       \b\b\b\b 94%\b\b\b\b\b  OK \n",
            "Extracting  CovidDataset/Val/Normal/NORMAL2-IM-1345-0001-0002.jpeg       \b\b\b\b 95%\b\b\b\b\b  OK \n",
            "Extracting  CovidDataset/Val/Normal/NORMAL2-IM-1345-0001.jpeg            \b\b\b\b 95%\b\b\b\b\b  OK \n",
            "Extracting  CovidDataset/Val/Normal/NORMAL2-IM-1346-0001.jpeg            \b\b\b\b 95%\b\b\b\b\b  OK \n",
            "Extracting  CovidDataset/Val/Normal/NORMAL2-IM-1347-0001.jpeg            \b\b\b\b 96%\b\b\b\b\b  OK \n",
            "Extracting  CovidDataset/Val/Normal/NORMAL2-IM-1348-0001.jpeg            \b\b\b\b 96%\b\b\b\b\b  OK \n",
            "Extracting  CovidDataset/Val/Normal/NORMAL2-IM-1349-0001.jpeg            \b\b\b\b 96%\b\b\b\b\b  OK \n",
            "Extracting  CovidDataset/Val/Normal/NORMAL2-IM-1350-0001.jpeg            \b\b\b\b 97%\b\b\b\b\b  OK \n",
            "Extracting  CovidDataset/Val/Normal/NORMAL2-IM-1351-0001.jpeg            \b\b\b\b 97%\b\b\b\b\b  OK \n",
            "Extracting  CovidDataset/Val/Normal/NORMAL2-IM-1356-0001.jpeg            \b\b\b\b 97%\b\b\b\b\b  OK \n",
            "Extracting  CovidDataset/Val/Normal/NORMAL2-IM-1357-0001.jpeg            \b\b\b\b 97%\b\b\b\b\b  OK \n",
            "Extracting  CovidDataset/Val/Normal/NORMAL2-IM-1360-0001.jpeg            \b\b\b\b 98%\b\b\b\b\b  OK \n",
            "Extracting  CovidDataset/Val/Normal/NORMAL2-IM-1362-0001.jpeg            \b\b\b\b 98%\b\b\b\b\b  OK \n",
            "Extracting  CovidDataset/Val/Normal/NORMAL2-IM-1365-0001.jpeg            \b\b\b\b 98%\b\b\b\b\b  OK \n",
            "Extracting  CovidDataset/Val/Normal/NORMAL2-IM-1371-0001.jpeg            \b\b\b\b 98%\b\b\b\b\b  OK \n",
            "Extracting  CovidDataset/Val/Normal/NORMAL2-IM-1376-0001.jpeg            \b\b\b\b 98%\b\b\b\b\b  OK \n",
            "Extracting  CovidDataset/Val/Normal/NORMAL2-IM-1379-0001.jpeg            \b\b\b\b 98%\b\b\b\b\b  OK \n",
            "Extracting  CovidDataset/Val/Normal/NORMAL2-IM-1385-0001.jpeg            \b\b\b\b 98%\b\b\b\b\b  OK \n",
            "Extracting  CovidDataset/Val/Normal/NORMAL2-IM-1396-0001.jpeg            \b\b\b\b 98%\b\b\b\b\b  OK \n",
            "Extracting  CovidDataset/Val/Normal/NORMAL2-IM-1400-0001.jpeg            \b\b\b\b 99%\b\b\b\b\b  OK \n",
            "Extracting  CovidDataset/Val/Normal/NORMAL2-IM-1401-0001.jpeg            \b\b\b\b 99%\b\b\b\b\b  OK \n",
            "Extracting  CovidDataset/Val/Normal/NORMAL2-IM-1406-0001.jpeg            \b\b\b\b 99%\b\b\b\b\b  OK \n",
            "Extracting  CovidDataset/Val/Normal/NORMAL2-IM-1412-0001.jpeg            \b\b\b\b 99%\b\b\b\b\b  OK \n",
            "Extracting  CovidDataset/Val/Normal/NORMAL2-IM-1419-0001.jpeg            \b\b\b\b 99%\b\b\b\b\b  OK \n",
            "Extracting  CovidDataset/Val/Normal/NORMAL2-IM-1422-0001.jpeg            \b\b\b\b 99%\b\b\b\b\b  OK \n",
            "Extracting  CovidDataset/Val/Normal/NORMAL2-IM-1423-0001.jpeg            \b\b\b\b 99%\b\b\b\b\b  OK \n",
            "All OK\n"
          ],
          "name": "stdout"
        }
      ]
    },
    {
      "cell_type": "code",
      "metadata": {
        "id": "2dyWZkbtRDa7"
      },
      "source": [
        "%matplotlib inline\n",
        "import pandas as pd\n",
        "import numpy as np\n",
        "import matplotlib.pyplot as plt\n",
        "import os\n",
        "from google.colab.patches import cv2_imshow \n",
        "import cv2\n",
        "\n",
        "\n",
        "\n",
        "t='CovidDataset/Train'\n",
        "categories = ['Covid', 'Normal']\n",
        "\n",
        "data = []\n",
        "for i in categories:\n",
        "  path= os.path.join(t, i)\n",
        "  #label= categories.index(i)\n",
        "\n",
        "  for img in os.listdir(path):\n",
        "    imgpath= os.path.join(path,img)\n",
        "    img_cov= cv2.imread(imgpath,0)\n",
        "    img_cov=cv2.resize(img_cov,(50,50))\n",
        "    image=np.array(img_cov).flatten()\n",
        "    data.append(image)\n",
        "  "
      ],
      "execution_count": 57,
      "outputs": []
    },
    {
      "cell_type": "code",
      "metadata": {
        "id": "3EiV8I6kSu1J"
      },
      "source": [
        "t='CovidDataset/Val'\n",
        "categories = ['Covid', 'Normal']\n",
        "\n",
        "for i in categories:\n",
        "  path= os.path.join(t, i)\n",
        "  #label= categories.index(i)\n",
        "  #print(label)\n",
        "\n",
        "  for img in os.listdir(path):\n",
        "    imgpath= os.path.join(path,img)\n",
        "    img_cov= cv2.imread(imgpath,0)\n",
        "    img_cov=cv2.resize(img_cov,(50,50))\n",
        "    image=np.array(img_cov).flatten()\n",
        "    data.append(image)"
      ],
      "execution_count": 58,
      "outputs": []
    },
    {
      "cell_type": "code",
      "metadata": {
        "colab": {
          "base_uri": "https://localhost:8080/"
        },
        "id": "OfH543TgS-fY",
        "outputId": "64923f5f-ced9-4064-94f8-7c161dd781dc"
      },
      "source": [
        "len(data)"
      ],
      "execution_count": 59,
      "outputs": [
        {
          "output_type": "execute_result",
          "data": {
            "text/plain": [
              "384"
            ]
          },
          "metadata": {
            "tags": []
          },
          "execution_count": 59
        }
      ]
    },
    {
      "cell_type": "code",
      "metadata": {
        "id": "y-ZBW6LSTDpc"
      },
      "source": [
        "from keras.preprocessing.image import ImageDataGenerator, array_to_img, img_to_array, load_img\n",
        "datagen = ImageDataGenerator(\n",
        "        rotation_range=40,\n",
        "        width_shift_range=0.2,\n",
        "        height_shift_range=0.2,\n",
        "        shear_range=0.2,\n",
        "        zoom_range=0.2,\n",
        "        horizontal_flip=True,\n",
        "        fill_mode='nearest')"
      ],
      "execution_count": 60,
      "outputs": []
    },
    {
      "cell_type": "code",
      "metadata": {
        "id": "ggiJorPiXI-m"
      },
      "source": [
        "t='CovidDataset/Train'\n",
        "categories = ['Covid', 'Normal']\n",
        "it=[]\n",
        "for i in categories:\n",
        "  path= os.path.join(t, i)\n",
        "  #label= categories.index(i)\n",
        "\n",
        "  for img in os.listdir(path):\n",
        "    imgpath= os.path.join(path,img)\n",
        "    #img_cov= cv2.imread(imgpath,0)\n",
        "    #img_cov=cv2.resize(img_cov,(50,50))\n",
        "    img=load_img(imgpath)\n",
        "    x = img_to_array(img).astype('uint8')  # this is a Numpy array with shape (3, 150, 150)\n",
        "    x = x.reshape(-1) \n",
        "    #it = datagen.flow(x, batch_size=1)\n",
        "    it.append(x)\n",
        "\n",
        "t='CovidDataset/Val'\n",
        "categories = ['Covid', 'Normal']\n",
        "for i in categories:\n",
        "  path= os.path.join(t, i)\n",
        "  #label= categories.index(i)\n",
        "\n",
        "  for img in os.listdir(path):\n",
        "    imgpath= os.path.join(path,img)\n",
        "    #img_cov= cv2.imread(imgpath,0)\n",
        "    #img_cov=cv2.resize(img_cov,(50,50))\n",
        "    img=load_img(imgpath)\n",
        "    x = img_to_array(img).astype('uint8')  # this is a Numpy array with shape (3, 150, 150)\n",
        "    x = x.reshape(-1) \n",
        "    #it = datagen.flow(x, batch_size=1)\n",
        "    it.append(x)"
      ],
      "execution_count": 69,
      "outputs": []
    },
    {
      "cell_type": "code",
      "metadata": {
        "colab": {
          "base_uri": "https://localhost:8080/"
        },
        "id": "I4jkE-wE2Ouq",
        "outputId": "5145ccdf-789d-4c20-925f-74e0e1dbacae"
      },
      "source": [
        "len(it)"
      ],
      "execution_count": 70,
      "outputs": [
        {
          "output_type": "execute_result",
          "data": {
            "text/plain": [
              "384"
            ]
          },
          "metadata": {
            "tags": []
          },
          "execution_count": 70
        }
      ]
    },
    {
      "cell_type": "code",
      "metadata": {
        "colab": {
          "base_uri": "https://localhost:8080/"
        },
        "id": "7j9ByktK54ms",
        "outputId": "5b5dec9c-9454-4f55-eae1-95d4d058cd2c"
      },
      "source": [
        "it[1]"
      ],
      "execution_count": 66,
      "outputs": [
        {
          "output_type": "execute_result",
          "data": {
            "text/plain": [
              "array([  0,   0,   0, ..., 205, 205, 205], dtype=uint8)"
            ]
          },
          "metadata": {
            "tags": []
          },
          "execution_count": 66
        }
      ]
    },
    {
      "cell_type": "code",
      "metadata": {
        "colab": {
          "base_uri": "https://localhost:8080/"
        },
        "id": "8m5XYD51-5Ia",
        "outputId": "0d019d2c-ab1d-4b02-eb86-487b2b5653c7"
      },
      "source": [
        "data[1] #see how they both differ"
      ],
      "execution_count": 64,
      "outputs": [
        {
          "output_type": "execute_result",
          "data": {
            "text/plain": [
              "array([  0,   0,   0, ..., 210, 204, 202], dtype=uint8)"
            ]
          },
          "metadata": {
            "tags": []
          },
          "execution_count": 64
        }
      ]
    },
    {
      "cell_type": "code",
      "metadata": {
        "colab": {
          "base_uri": "https://localhost:8080/"
        },
        "id": "2EDvs94c-8pA",
        "outputId": "0024ad4a-4d00-4268-b8b1-26477c13b993"
      },
      "source": [
        "data= data + it\n",
        "len(data)"
      ],
      "execution_count": 71,
      "outputs": [
        {
          "output_type": "execute_result",
          "data": {
            "text/plain": [
              "960"
            ]
          },
          "metadata": {
            "tags": []
          },
          "execution_count": 71
        }
      ]
    },
    {
      "cell_type": "code",
      "metadata": {
        "id": "HtBNl2vBD7ug"
      },
      "source": [
        ""
      ],
      "execution_count": 64,
      "outputs": []
    }
  ]
}